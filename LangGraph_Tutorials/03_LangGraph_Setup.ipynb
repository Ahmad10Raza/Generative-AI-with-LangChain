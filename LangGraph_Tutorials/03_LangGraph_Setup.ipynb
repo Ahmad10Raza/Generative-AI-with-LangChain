{
 "cells": [
  {
   "cell_type": "markdown",
   "id": "cc8207a3",
   "metadata": {},
   "source": [
    "#  Installing `langgraph` and related dependencies"
   ]
  },
  {
   "cell_type": "markdown",
   "id": "60803057",
   "metadata": {},
   "source": [
    "To install `langgraph` and all related dependencies properly, follow these steps.\n",
    "\n",
    "\n",
    "\n",
    "### ✅ **1. Recommended Python Version**\n",
    "\n",
    "Ensure you're using **Python 3.10 or later**:\n",
    "\n",
    "```bash\n",
    "python3 --version\n",
    "```\n",
    "\n",
    "\n",
    "\n",
    "### 🧰 **2. Set Up a Virtual Environment (Recommended)**\n",
    "\n",
    "```bash\n",
    "python3 -m venv langgraph-env\n",
    "source langgraph-env/bin/activate  # On Windows: langgraph-env\\Scripts\\activate\n",
    "```\n",
    "\n",
    "\n",
    "\n",
    "### 📦 **3. Install `langgraph`**\n",
    "\n",
    "```bash\n",
    "pip install langgraph\n",
    "```\n",
    "\n",
    "> This will automatically install:\n",
    "\n",
    "* `langchain`\n",
    "* `langchain_core`\n",
    "* `pydantic`\n",
    "* `networkx`\n",
    "* Other necessary libraries\n",
    "\n",
    "\n",
    "\n",
    "### 🧠 **4. Additional Optional Dependencies**\n",
    "\n",
    "You might also want:\n",
    "\n",
    "#### For OpenAI models:\n",
    "\n",
    "```bash\n",
    "pip install openai langchain-openai\n",
    "```\n",
    "\n",
    "#### For Streaming & Visualization:\n",
    "\n",
    "```bash\n",
    "pip install sse-starlette\n",
    "```\n",
    "\n",
    "#### For Jupyter Notebooks:\n",
    "\n",
    "```bash\n",
    "pip install ipykernel\n",
    "```\n",
    "\n",
    "\n",
    "\n",
    "### 🧪 **5. Verify Installation**\n",
    "\n",
    "Run Python and check:\n",
    "\n",
    "```python\n",
    "from langgraph.graph import StateGraph\n",
    "from langgraph.prebuilt import create_agent_executor\n",
    "\n",
    "print(\"✅ LangGraph is installed correctly!\")\n",
    "```\n",
    "\n",
    "\n",
    "\n",
    "### 🛠️ Troubleshooting\n",
    "\n",
    "#### If you get errors like `No matching distribution found for setuptools>=40.8.0`, try upgrading pip:\n",
    "\n",
    "```bash\n",
    "pip install --upgrade pip setuptools\n",
    "```\n",
    "\n"
   ]
  },
  {
   "cell_type": "code",
   "execution_count": 2,
   "id": "878fbfee",
   "metadata": {},
   "outputs": [
    {
     "name": "stdout",
     "output_type": "stream",
     "text": [
      "✅ LangGraph is installed correctly!\n"
     ]
    }
   ],
   "source": [
    "from langgraph.graph import StateGraph\n",
    "from langgraph.prebuilt import create_react_agent\n",
    "\n",
    "print(\"✅ LangGraph is installed correctly!\")"
   ]
  },
  {
   "cell_type": "code",
   "execution_count": null,
   "id": "04568365",
   "metadata": {},
   "outputs": [],
   "source": []
  }
 ],
 "metadata": {
  "kernelspec": {
   "display_name": "Gen_AI",
   "language": "python",
   "name": "python3"
  },
  "language_info": {
   "codemirror_mode": {
    "name": "ipython",
    "version": 3
   },
   "file_extension": ".py",
   "mimetype": "text/x-python",
   "name": "python",
   "nbconvert_exporter": "python",
   "pygments_lexer": "ipython3",
   "version": "3.10.18"
  }
 },
 "nbformat": 4,
 "nbformat_minor": 5
}
