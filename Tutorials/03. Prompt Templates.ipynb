{
 "cells": [
  {
   "cell_type": "markdown",
   "metadata": {},
   "source": [
    "# Promts"
   ]
  },
  {
   "cell_type": "code",
   "execution_count": 2,
   "metadata": {},
   "outputs": [
    {
     "data": {
      "image/png": "[encoded data removed]",
      "text/plain": [
       "<IPython.core.display.Image object>"
      ]
     },
     "execution_count": 2,
     "metadata": {},
     "output_type": "execute_result"
    }
   ],
   "source": [
    "from IPython.display import Image\n",
    "Image(filename='Images/prompts.png')"
   ]
  },
  {
   "cell_type": "markdown",
   "metadata": {},
   "source": [
    " \n",
    "\n",
    "**Prompts in LangChain serve as precise instructions or inputs that guide the LLM's (Large Language Model) response, shaping its output to align with your desired goals.** They act as the starting point for the LLM's creative process, providing essential context and direction.\n",
    "\n",
    "**Key Characteristics:**\n",
    "\n",
    "- **Textual Input:** Prompts are typically written in natural language, comprehensible to both humans and LLMs.\n",
    "- **Structured Composition:** They often include specific elements:\n",
    "    - **Instructions:** Describe the task or desired response type (e.g., \"Write a poem about...\", \"Translate this text into...\", \"Generate a code snippet for...\").\n",
    "    - **Context:** Provide relevant information or background knowledge to shape the response appropriately.\n",
    "    - **Examples:** Illustrate the desired style or format of the output, helping the LLM grasp your expectations.\n",
    "    - **Constraints:** Set boundaries or limitations to control the output's scope or focus.\n",
    "- **Dynamic Nature:** Prompts can be dynamically generated or modified within LangChain's chains, adapting to user input, context, or external data.\n",
    "\n",
    "**Purposes and Examples:**\n",
    "\n",
    "- **Generating Creative Text:** Prompting the LLM to create poems, code, scripts, emails, letters, musical pieces, email, letters, etc.\n",
    "- **Answering Questions:** Providing specific prompts to elicit accurate and informative responses from the LLM.\n",
    "- **Summarizing Text:** Instructing the LLM to create concise summaries of documents or articles.\n",
    "- **Translating Languages:** Specifying the source and target languages for translation tasks.\n",
    "- **Completing Tasks:** Guiding the LLM to execute specific actions or generate code for various purposes.\n",
    "\n",
    "**Essential Role in LangChain:**\n",
    "\n",
    "- **Initiate LLM Interaction:** Prompts are the starting point for each communication with the LLM within a chain.\n",
    "- **Control Output Quality:** Well-crafted prompts significantly influence the relevance, creativity, and accuracy of the LLM's output.\n",
    "- **Unlock Flexibility:** Dynamically adjusting prompts within chains enables a wide range of adaptive and interactive applications.\n",
    "\n",
    "**Remember:** Effective prompt engineering is a crucial skill in LangChain development. Experiment with different prompt structures and techniques to discover the best ways to guide the LLM towards your desired outcomes.\n"
   ]
  },
  {
   "cell_type": "markdown",
   "metadata": {},
   "source": [
    "# Prompt Templates"
   ]
  },
  {
   "cell_type": "markdown",
   "metadata": {},
   "source": [
    "\n",
    "\n",
    "**Prompt templates in LangChain offer a structured way to create dynamic and reusable prompts.** They act as blueprints for crafting prompts, ensuring consistency and enabling you to tailor prompts efficiently based on user input or context.\n",
    "\n",
    "**Key Characteristics:**\n",
    "\n",
    "- **Predefined Structures:** Prompt templates are designed with placeholders or variables that can be filled with dynamic content during execution.\n",
    "- **Customizable:** You can create and modify templates to suit specific tasks and desired response types.\n",
    "- **Reusability:** Templates promote code efficiency and consistency by enabling you to reuse them across different chains or applications.\n",
    "- **Integration with Chains:** Prompt templates are often integrated into LangChain components like PromptChain and LLMChain for seamless prompt generation.\n",
    "\n",
    "**Common Elements:**\n",
    "\n",
    "- **Instructions:** Define the general task or desired output (e.g., \"Write a poem about {topic}\").\n",
    "- **Placeholders:** Represent dynamic content (enclosed in curly braces, like \"{topic}\") to be filled at runtime.\n",
    "- **Examples:** Provide illustrative examples to guide the LLM's understanding (e.g., \"Here are some poems about nature: {example_poems}\").\n",
    "- **Constraints:** Set boundaries or limitations on the output (e.g., \"Keep the poem under 10 lines\").\n",
    "\n",
    "**Benefits:**\n",
    "\n",
    "- **Flexibility:** Generate diverse prompts with varying content while maintaining a consistent structure.\n",
    "- **Efficiency:** Streamline prompt development and reduce code repetition.\n",
    "- **Experimentation:** Easily try different prompt structures and variations without altering core logic.\n",
    "- **Personalization:** Adapt prompts to user preferences or context for tailored experiences.\n",
    "\n",
    "**Example:**\n",
    "\n",
    "```python\n",
    "prompt_template = \"\"\"Write a poem about {topic}, incorporating the following themes: {themes}\n",
    "\n",
    "Here are some examples of poems about {topic}:\n",
    "{example_poems}\n",
    "\"\"\"\n",
    "```\n",
    "\n",
    "**Usage in LangChain:**\n",
    "\n",
    "```python\n",
    "topic = \"love\"\n",
    "themes = [\"joy\", \"longing\", \"loss\"]\n",
    "example_poems = [\"...\", \"...\"]  # List of example poems\n",
    "\n",
    "prompt = prompt_template.format(topic=topic, themes=themes, example_poems=example_poems)\n",
    "llm_response = llm_adapter.run(prompt)  # Send the generated prompt to the LLM\n",
    "```\n",
    "\n",
    "By effectively utilizing prompt templates, you can enhance the flexibility and effectiveness of your LangChain applications, crafting prompts that precisely guide the LLM towards your desired outcomes while maintaining efficiency and consistency in development.\n"
   ]
  },
  {
   "cell_type": "markdown",
   "metadata": {},
   "source": [
    "# Code Implementation:"
   ]
  },
  {
   "cell_type": "markdown",
   "metadata": {},
   "source": [
    "\n",
    "\n",
    "**1. Import Necessary Libraries:**\n",
    "\n",
    "```python\n",
    "import langchain\n",
    "from langchain.llms import OpenAI  # Or any other supported LLM adapter\n",
    "```\n",
    "\n",
    "**2. Define a Prompt Template:**\n",
    "\n",
    "```python\n",
    "prompt_template = \"\"\"Write a poem about {topic}, focusing on the following emotions: {emotions}\n",
    "\n",
    "Here are some examples of poems that convey those emotions:\n",
    "{example_poems}\n",
    "\"\"\"\n",
    "```\n",
    "\n",
    "**3. Prepare Dynamic Data:**\n",
    "\n",
    "```python\n",
    "topic = \"hope\"\n",
    "emotions = [\"joy\", \"determination\", \"resilience\"]\n",
    "example_poems = [\"...\", \"...\"]  # List of example poems\n",
    "```\n",
    "\n",
    "**4. Generate the Prompt:**\n",
    "\n",
    "```python\n",
    "prompt = prompt_template.format(topic=topic, emotions=emotions, example_poems=example_poems)\n",
    "```\n",
    "\n",
    "**5. Connect to an LLM Adapter:**\n",
    "\n",
    "```python\n",
    "llm = OpenAI(temperature=0.9)  # Adjust temperature as needed\n",
    "```\n",
    "\n",
    "**6. Run the Prompt Through the LLM:**\n",
    "\n",
    "```python\n",
    "llm_response = llm.run(prompt)\n",
    "```\n",
    "\n",
    "**7. Process and Present the Output:**\n",
    "\n",
    "```python\n",
    "print(\"Generated Poem:\")\n",
    "print(llm_response.text)\n",
    "```\n",
    "\n",
    "**Explanation:**\n",
    "\n",
    "- **Import Libraries:** Import `langchain` for working with chains and `OpenAI` (or another LLM adapter) for interacting with the LLM.\n",
    "- **Define Template:** Create a prompt template with placeholders for dynamic content (`{topic}`, `{emotions}`, `{example_poems}`).\n",
    "- **Prepare Data:** Gather the dynamic content to fill the placeholders (topic, emotions, example poems).\n",
    "- **Generate Prompt:** Use string formatting to create the final prompt by replacing placeholders with actual values.\n",
    "- **Connect LLM:** Create an instance of the LLM adapter (here, OpenAI) to communicate with the LLM.\n",
    "- **Run Prompt:** Send the generated prompt to the LLM using the adapter's `run()` method.\n",
    "- **Process Output:** The LLM returns a response object containing the generated text. Access the text using `llm_response.text`.\n",
    "- **Present Output:** Print the generated poem to the console for viewing.\n",
    "\n",
    "**Key Points:**\n",
    "\n",
    "- Prompt templates create structured and reusable prompt structures.\n",
    "- Placeholders within templates allow for dynamic content injection.\n",
    "- String formatting (`.format()`) fills placeholders with actual values.\n",
    "- LLM adapters handle communication with the LLM.\n",
    "- Response objects contain generated text and metadata.\n",
    "\n",
    "**Adapt and experiment with different prompt templates, dynamic data, and LLM configurations to achieve your desired outcomes!**\n"
   ]
  },
  {
   "cell_type": "markdown",
   "metadata": {},
   "source": [
    "# **Thank You!**"
   ]
  }
 ],
 "metadata": {
  "kernelspec": {
   "display_name": "Python 3",
   "language": "python",
   "name": "python3"
  },
  "language_info": {
   "codemirror_mode": {
    "name": "ipython",
    "version": 3
   },
   "file_extension": ".py",
   "mimetype": "text/x-python",
   "name": "python",
   "nbconvert_exporter": "python",
   "pygments_lexer": "ipython3",
   "version": "3.10.12"
  }
 },
 "nbformat": 4,
 "nbformat_minor": 2
}
