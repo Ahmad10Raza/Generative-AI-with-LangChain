{
 "cells": [
  {
   "cell_type": "code",
   "execution_count": 2,
   "id": "ddf39caa",
   "metadata": {},
   "outputs": [
    {
     "data": {
      "text/plain": [
       "True"
      ]
     },
     "execution_count": 2,
     "metadata": {},
     "output_type": "execute_result"
    }
   ],
   "source": [
    "import os\n",
    "from langchain_openai import ChatOpenAI, OpenAIEmbeddings\n",
    "from langchain.document_loaders import WebBaseLoader\n",
    "from langchain.text_splitter import RecursiveCharacterTextSplitter\n",
    "from langchain.vectorstores import Chroma\n",
    "from langgraph.graph import StateGraph, END\n",
    "from langchain_core.messages import HumanMessage, BaseMessage\n",
    "from typing import List, TypedDict\n",
    "from dotenv import load_dotenv\n",
    "\n",
    "load_dotenv()\n",
    "# Set your OpenAI API Key\n",
    "# os.environ[\"OPENAI_API_KEY\"]  # Replace this"
   ]
  },
  {
   "cell_type": "markdown",
   "id": "0dde80ce",
   "metadata": {},
   "source": [
    "# Step 3: Load and Split Web Content"
   ]
  },
  {
   "cell_type": "code",
   "execution_count": 3,
   "id": "cba5ccdd",
   "metadata": {},
   "outputs": [],
   "source": [
    "url = \"https://sunnah.com/bukhari/1\"  # Example doc page\n",
    "loader = WebBaseLoader(url)\n",
    "docs = loader.load()\n",
    "\n",
    "splitter = RecursiveCharacterTextSplitter(chunk_size=500, chunk_overlap=100)\n",
    "splits = splitter.split_documents(docs)"
   ]
  },
  {
   "cell_type": "code",
   "execution_count": 4,
   "id": "6ee7e0c4",
   "metadata": {},
   "outputs": [
    {
     "data": {
      "text/plain": [
       "[Document(metadata={'source': 'https://sunnah.com/bukhari/1', 'title': '\\n\\tRevelation - Sunnah.com - Sayings and Teachings of Prophet Muhammad (صلى الله عليه و سلم)\\n  ', 'description': 'Hadith of the Prophet Muhammad (saws) in English and Arabic', 'language': 'No language found.'}, page_content=\"Revelation - Sunnah.com - Sayings and Teachings of Prophet Muhammad (صلى الله عليه و سلم)\\n  \\n\\n\\n\\n\\n\\n\\n\\n\\nContribute to our mission\\nDonate Now\\n\\n\\n\\n\\nQur'an |\\nSunnah |\\nPrayer Times |\\nAudio\\n\\n\\n\\n\\n \\n\\n\\n\\n\\n\\n\\n\\n\\n\\n\\n\\n\\n\\n\\n\\n\\n\\n\\n\\n\\n\\n\\n\\n\\n\\n×\\nSelect Collections\"),\n",
       " Document(metadata={'source': 'https://sunnah.com/bukhari/1', 'title': '\\n\\tRevelation - Sunnah.com - Sayings and Teachings of Prophet Muhammad (صلى الله عليه و سلم)\\n  ', 'description': 'Hadith of the Prophet Muhammad (saws) in English and Arabic', 'language': 'No language found.'}, page_content=\"Qur'an |\\nSunnah |\\nPrayer Times |\\nAudio\\n\\n\\n\\n\\n \\n\\n\\n\\n\\n\\n\\n\\n\\n\\n\\n\\n\\n\\n\\n\\n\\n\\n\\n\\n\\n\\n\\n\\n\\n\\n×\\nSelect Collections\\n\\nSahih al-BukhariSahih MuslimSunan an-Nasa'iSunan Abi DawudJami` at-TirmidhiSunan Ibn MajahMuwatta MalikMusnad AhmadSunan ad-DarimiAn-Nawawi's 40 HadithRiyad as-SalihinAl-Adab Al-MufradAsh-Shama'il Al-MuhammadiyahMishkat al-MasabihBulugh al-MaramCollections of FortyHisn al-MuslimShow More Collections \\nApply\"),\n",
       " Document(metadata={'source': 'https://sunnah.com/bukhari/1', 'title': '\\n\\tRevelation - Sunnah.com - Sayings and Teachings of Prophet Muhammad (صلى الله عليه و سلم)\\n  ', 'description': 'Hadith of the Prophet Muhammad (saws) in English and Arabic', 'language': 'No language found.'}, page_content='Quotes e.g. \"pledge allegiance\"\\n        Searches for the whole phrase instead of individual words\\n        \\nWildcards e.g. test*\\n            Matches any set of one or more characters. For example test* would result in test, tester, testers, etc.\\n        \\nFuzzy Search e.g. swore~\\n            Finds terms that are similar in spelling. For example swore~ would result in swore, snore, score, etc.\\n        \\nTerm Boosting e.g. pledge^4 hijrah'),\n",
       " Document(metadata={'source': 'https://sunnah.com/bukhari/1', 'title': '\\n\\tRevelation - Sunnah.com - Sayings and Teachings of Prophet Muhammad (صلى الله عليه و سلم)\\n  ', 'description': 'Hadith of the Prophet Muhammad (saws) in English and Arabic', 'language': 'No language found.'}, page_content='Term Boosting e.g. pledge^4 hijrah\\n            Boosts words with higher relevance. Here, the word pledge will have higher weight than hijrah'),\n",
       " Document(metadata={'source': 'https://sunnah.com/bukhari/1', 'title': '\\n\\tRevelation - Sunnah.com - Sayings and Teachings of Prophet Muhammad (صلى الله عليه و سلم)\\n  ', 'description': 'Hadith of the Prophet Muhammad (saws) in English and Arabic', 'language': 'No language found.'}, page_content='Boolean Operators e.g. (\"pledge allegiance\" OR \"shelter) AND prayer\\n            Create complex phrase and word queries by using Boolean logic.\\n        \\nMore ...\\n\\n\\n\\n\\n \\nHome » Sahih al-Bukhari » Revelation \\n\\n\\n\\n\\n\\n\\n\\n\\nLanguage:\\n\\n\\n\\nEnglish\\n\\n\\n\\n\\nUrdu \\xa0اردو\\n\\n\\n\\nBangla \\xa0বাংলা\\n\\n\\n\\n\\n\\n\\n\\n\\nكتاب بدء الوحى \\n1\\xa0\\xa0 \\n\\t\\t\\t\\tRevelation\\t\\t\\t\\n\\n\\n\\n\\n\\n\\n\\n\\n\\n\\n(1)Chapter: How the Divine Revelation started being revealed to Allah\\'s Messenger\\n(1)\\nباب كَيْفَ كَانَ بَدْءُ الْوَحْىِ إِلَى رَسُولِ اللَّهِ صلى الله عليه وسلم'),\n",
       " Document(metadata={'source': 'https://sunnah.com/bukhari/1', 'title': '\\n\\tRevelation - Sunnah.com - Sayings and Teachings of Prophet Muhammad (صلى الله عليه و سلم)\\n  ', 'description': 'Hadith of the Prophet Muhammad (saws) in English and Arabic', 'language': 'No language found.'}, page_content='And the Statement of Allah جَلَّ ذِكْرُهُ: \"Verily, We have sent the revelation to you (O Muhammad ﷺ) as We sent the revelation to Noah and the Prophets after him.\" (V.4:163) \\nوَقَوْلُ اللَّهِ جَلَّ ذِكْرُهُ: {إِنَّا أَوْحَيْنَا إِلَيْكَ كَمَا أَوْحَيْنَا إِلَى نُوحٍ وَالنَّبِيِّينَ مِنْ بَعْدِهِ}\\n\\n\\n\\n\\nSahih al-Bukhari 1Narrated \\'Umar bin Al-Khattab:'),\n",
       " Document(metadata={'source': 'https://sunnah.com/bukhari/1', 'title': '\\n\\tRevelation - Sunnah.com - Sayings and Teachings of Prophet Muhammad (صلى الله عليه و سلم)\\n  ', 'description': 'Hadith of the Prophet Muhammad (saws) in English and Arabic', 'language': 'No language found.'}, page_content='Sahih al-Bukhari 1Narrated \\'Umar bin Al-Khattab:\\n\\n     I heard Allah\\'s Messenger (ﷺ) saying, \"The reward of deeds depends upon the \\n     intentions and every person will get the reward according to what he \\n     has intended. So whoever emigrated for worldly benefits or for a woman\\n     to marry, his emigration was for what he emigrated for.\"'),\n",
       " Document(metadata={'source': 'https://sunnah.com/bukhari/1', 'title': '\\n\\tRevelation - Sunnah.com - Sayings and Teachings of Prophet Muhammad (صلى الله عليه و سلم)\\n  ', 'description': 'Hadith of the Prophet Muhammad (saws) in English and Arabic', 'language': 'No language found.'}, page_content='حَدَّثَنَا الْحُمَيْدِيُّ عَبْدُ اللَّهِ بْنُ الزُّبَيْرِ  ، قَالَ : حَدَّثَنَا سُفْيَانُ  ، قَالَ : حَدَّثَنَا يَحْيَى بْنُ سَعِيدٍ الْأَنْصَارِيُّ  ، قَالَ : أَخْبَرَنِي مُحَمَّدُ بْنُ إِبْرَاهِيمَ التَّيْمِيُّ  ، أَنَّهُ سَمِعَ عَلْقَمَةَ بْنَ وَقَّاصٍ اللَّيْثِيَّ  ، يَقُولُ : سَمِعْتُ عُمَرَ بْنَ الْخَطَّابِ   رَضِيَ اللَّهُ عَنْهُ عَلَى الْمِنْبَرِ، قَالَ : سَمِعْتُ رَسُولَ اللَّهِ صَلَّى اللَّهُ عَلَيْهِ وَسَلَّمَ، يَقُولُ : \"'),\n",
       " Document(metadata={'source': 'https://sunnah.com/bukhari/1', 'title': '\\n\\tRevelation - Sunnah.com - Sayings and Teachings of Prophet Muhammad (صلى الله عليه و سلم)\\n  ', 'description': 'Hadith of the Prophet Muhammad (saws) in English and Arabic', 'language': 'No language found.'}, page_content='إِنَّمَا الْأَعْمَالُ بِالنِّيَّاتِ، وَإِنَّمَا لِكُلِّ امْرِئٍ مَا نَوَى، فَمَنْ كَانَتْ هِجْرَتُهُ إِلَى دُنْيَا يُصِيبُهَا أَوْ إِلَى امْرَأَةٍ يَنْكِحُهَا، فَهِجْرَتُهُ إِلَى مَا هَاجَرَ إِلَيْهِ \"'),\n",
       " Document(metadata={'source': 'https://sunnah.com/bukhari/1', 'title': '\\n\\tRevelation - Sunnah.com - Sayings and Teachings of Prophet Muhammad (صلى الله عليه و سلم)\\n  ', 'description': 'Hadith of the Prophet Muhammad (saws) in English and Arabic', 'language': 'No language found.'}, page_content='Reference\\xa0:\\xa0Sahih al-Bukhari 1In-book reference\\xa0:\\xa0Book 1, Hadith 1USC-MSA web (English) reference\\xa0: Vol. 1, Book 1, Hadith 1 \\xa0\\xa0(deprecated numbering scheme)Report Error | Share | Copy ▼\\n\\n(2)Chapter: \\n(2)\\nباب'),\n",
       " Document(metadata={'source': 'https://sunnah.com/bukhari/1', 'title': '\\n\\tRevelation - Sunnah.com - Sayings and Teachings of Prophet Muhammad (صلى الله عليه و سلم)\\n  ', 'description': 'Hadith of the Prophet Muhammad (saws) in English and Arabic', 'language': 'No language found.'}, page_content=\"Sahih al-Bukhari 2\\r\\n\\r\\n     Narrated 'Aisha:\"),\n",
       " Document(metadata={'source': 'https://sunnah.com/bukhari/1', 'title': '\\n\\tRevelation - Sunnah.com - Sayings and Teachings of Prophet Muhammad (صلى الله عليه و سلم)\\n  ', 'description': 'Hadith of the Prophet Muhammad (saws) in English and Arabic', 'language': 'No language found.'}, page_content='(the mother of the faithful believers) Al-Harith bin Hisham asked Allah\\'s Messenger (ﷺ) \"O Allah\\'s Messenger (ﷺ)! How is the Divine Inspiration revealed to you?\" Allah\\'s Messenger (ﷺ) replied, \"Sometimes it is (revealed) like the ringing of a bell, this form of Inspiration is the hardest of all and then this state passes off after I have grasped what is inspired. Sometimes the Angel comes in the form of a man and talks to me and I grasp whatever he says.\" \\'Aisha added: Verily I saw the'),\n",
       " Document(metadata={'source': 'https://sunnah.com/bukhari/1', 'title': '\\n\\tRevelation - Sunnah.com - Sayings and Teachings of Prophet Muhammad (صلى الله عليه و سلم)\\n  ', 'description': 'Hadith of the Prophet Muhammad (saws) in English and Arabic', 'language': 'No language found.'}, page_content='in the form of a man and talks to me and I grasp whatever he says.\" \\'Aisha added: Verily I saw the Prophet (ﷺ) being inspired divinely on a very cold day and noticed the sweat dropping from his forehead (as the Inspiration was over).'),\n",
       " Document(metadata={'source': 'https://sunnah.com/bukhari/1', 'title': '\\n\\tRevelation - Sunnah.com - Sayings and Teachings of Prophet Muhammad (صلى الله عليه و سلم)\\n  ', 'description': 'Hadith of the Prophet Muhammad (saws) in English and Arabic', 'language': 'No language found.'}, page_content='حَدَّثَنَا عَبْدُ اللَّهِ بْنُ يُوسُفَ، قَالَ أَخْبَرَنَا مَالِكٌ، عَنْ هِشَامِ بْنِ عُرْوَةَ، عَنْ أَبِيهِ، عَنْ عَائِشَةَ أُمِّ الْمُؤْمِنِينَ ـ رضى الله عنها ـ أَنَّ الْحَارِثَ بْنَ هِشَامٍ ـ رضى الله عنه ـ سَأَلَ رَسُولَ اللَّهِ صلى الله عليه وسلم فَقَالَ يَا رَسُولَ اللَّهِ كَيْفَ يَأْتِيكَ الْوَحْىُ فَقَالَ رَسُولُ اللَّهِ صلى الله عليه وسلم \\u200f'),\n",
       " Document(metadata={'source': 'https://sunnah.com/bukhari/1', 'title': '\\n\\tRevelation - Sunnah.com - Sayings and Teachings of Prophet Muhammad (صلى الله عليه و سلم)\\n  ', 'description': 'Hadith of the Prophet Muhammad (saws) in English and Arabic', 'language': 'No language found.'}, page_content='\"\\u200f أَحْيَانًا يَأْتِينِي مِثْلَ صَلْصَلَةِ الْجَرَسِ ـ وَهُوَ أَشَدُّهُ عَلَىَّ ـ فَيُفْصَمُ عَنِّي وَقَدْ وَعَيْتُ عَنْهُ مَا قَالَ، وَأَحْيَانًا يَتَمَثَّلُ لِيَ الْمَلَكُ رَجُلاً فَيُكَلِّمُنِي فَأَعِي مَا يَقُولُ \\u200f\"\\u200f\\u200f.\\u200f قَالَتْ عَائِشَةُ رضى الله عنها وَلَقَدْ رَأَيْتُهُ يَنْزِلُ عَلَيْهِ الْوَحْىُ فِي الْيَوْمِ الشَّدِيدِ الْبَرْدِ، فَيَفْصِمُ عَنْهُ وَإِنَّ جَبِينَهُ لَيَتَفَصَّدُ عَرَقًا\\u200f.\\u200f'),\n",
       " Document(metadata={'source': 'https://sunnah.com/bukhari/1', 'title': '\\n\\tRevelation - Sunnah.com - Sayings and Teachings of Prophet Muhammad (صلى الله عليه و سلم)\\n  ', 'description': 'Hadith of the Prophet Muhammad (saws) in English and Arabic', 'language': 'No language found.'}, page_content='Reference\\xa0:\\xa0Sahih al-Bukhari 2In-book reference\\xa0:\\xa0Book 1, Hadith 2USC-MSA web (English) reference\\xa0: Vol. 1, Book 1, Hadith 2 \\xa0\\xa0(deprecated numbering scheme)Report Error | Share | Copy ▼\\n\\n(3)Chapter: \\n(3)\\nباب'),\n",
       " Document(metadata={'source': 'https://sunnah.com/bukhari/1', 'title': '\\n\\tRevelation - Sunnah.com - Sayings and Teachings of Prophet Muhammad (صلى الله عليه و سلم)\\n  ', 'description': 'Hadith of the Prophet Muhammad (saws) in English and Arabic', 'language': 'No language found.'}, page_content=\"Sahih al-Bukhari 3Narrated 'Aisha (the mother of the faithful believers):The commencement of the Divine Inspiration to Allah's Messenger (ﷺ) was in the form of good dreams which came true like bright daylight, and then the love of seclusion was bestowed upon him. He used to go in seclusion in the cave of Hira where he used to worship (Allah alone) continuously for many days before his desire to see his family. He used to take with him the journey food for the stay and then come back to (his\"),\n",
       " Document(metadata={'source': 'https://sunnah.com/bukhari/1', 'title': '\\n\\tRevelation - Sunnah.com - Sayings and Teachings of Prophet Muhammad (صلى الله عليه و سلم)\\n  ', 'description': 'Hadith of the Prophet Muhammad (saws) in English and Arabic', 'language': 'No language found.'}, page_content='see his family. He used to take with him the journey food for the stay and then come back to (his wife) Khadija to take his food likewise again till suddenly the Truth descended upon him while he was in the cave of Hira. The angel came to him and asked him to read. The Prophet (ﷺ) replied, \"I do not know how to read.\" The Prophet (ﷺ) added, \"The angel caught me (forcefully) and pressed me so hard that I could not bear it any more. He then released me and again asked me to read and I replied, \\'I'),\n",
       " Document(metadata={'source': 'https://sunnah.com/bukhari/1', 'title': '\\n\\tRevelation - Sunnah.com - Sayings and Teachings of Prophet Muhammad (صلى الله عليه و سلم)\\n  ', 'description': 'Hadith of the Prophet Muhammad (saws) in English and Arabic', 'language': 'No language found.'}, page_content=\"that I could not bear it any more. He then released me and again asked me to read and I replied, 'I do not know how to read.' Thereupon he caught me again and pressed me a second time till I could not bear it any more. He then released me and again asked me to read but again I replied, 'I do not know how to read (or what shall I read)?' Thereupon he caught me for the third time and pressed me, and then released me and said, 'Read in the name of your Lord, who has created (all that exists),\"),\n",
       " Document(metadata={'source': 'https://sunnah.com/bukhari/1', 'title': '\\n\\tRevelation - Sunnah.com - Sayings and Teachings of Prophet Muhammad (صلى الله عليه و سلم)\\n  ', 'description': 'Hadith of the Prophet Muhammad (saws) in English and Arabic', 'language': 'No language found.'}, page_content='and then released me and said, \\'Read in the name of your Lord, who has created (all that exists), created man from a clot. Read! And your Lord is the Most Generous.\" (96.1, 96.2, 96.3) Then Allah\\'s Messenger (ﷺ) returned with the Inspiration and with his heart beating severely. Then he went to Khadija bint Khuwailid and said, \"Cover me! Cover me!\" They covered him till his fear was over and after that he told her everything that had happened and said, \"I fear that something may happen to me.\"'),\n",
       " Document(metadata={'source': 'https://sunnah.com/bukhari/1', 'title': '\\n\\tRevelation - Sunnah.com - Sayings and Teachings of Prophet Muhammad (صلى الله عليه و سلم)\\n  ', 'description': 'Hadith of the Prophet Muhammad (saws) in English and Arabic', 'language': 'No language found.'}, page_content='that he told her everything that had happened and said, \"I fear that something may happen to me.\" Khadija replied, \"Never! By Allah, Allah will never disgrace you. You keep good relations with your kith and kin, help the poor and the destitute, serve your guests generously and assist the deserving calamity-afflicted ones.\"  Khadija then accompanied him to her cousin Waraqa bin Naufal bin Asad bin \\'Abdul \\'Uzza, who, during the pre-Islamic Period became a Christian and used to write the writing'),\n",
       " Document(metadata={'source': 'https://sunnah.com/bukhari/1', 'title': '\\n\\tRevelation - Sunnah.com - Sayings and Teachings of Prophet Muhammad (صلى الله عليه و سلم)\\n  ', 'description': 'Hadith of the Prophet Muhammad (saws) in English and Arabic', 'language': 'No language found.'}, page_content='\\'Abdul \\'Uzza, who, during the pre-Islamic Period became a Christian and used to write the writing with Hebrew letters. He would write from the Gospel in Hebrew as much as Allah wished him to write. He was an old man and had lost his eyesight. Khadija said to Waraqa, \"Listen to the story of your nephew, O my cousin!\" Waraqa asked, \"O my nephew! What have you seen?\" Allah\\'s Messenger (ﷺ) described whatever he had seen. Waraqa said, \"This is the same one who keeps the secrets (angel Gabriel) whom'),\n",
       " Document(metadata={'source': 'https://sunnah.com/bukhari/1', 'title': '\\n\\tRevelation - Sunnah.com - Sayings and Teachings of Prophet Muhammad (صلى الله عليه و سلم)\\n  ', 'description': 'Hadith of the Prophet Muhammad (saws) in English and Arabic', 'language': 'No language found.'}, page_content='whatever he had seen. Waraqa said, \"This is the same one who keeps the secrets (angel Gabriel) whom Allah had sent to Moses. I wish I were young and could live up to the time when your people would turn you out.\" Allah\\'s Messenger (ﷺ) asked, \"Will they drive me out?\" Waraqa replied in the affirmative and said, \"Anyone (man) who came with something similar to what you have brought was treated with hostility; and if I should remain alive till the day when you will be turned out then I would'),\n",
       " Document(metadata={'source': 'https://sunnah.com/bukhari/1', 'title': '\\n\\tRevelation - Sunnah.com - Sayings and Teachings of Prophet Muhammad (صلى الله عليه و سلم)\\n  ', 'description': 'Hadith of the Prophet Muhammad (saws) in English and Arabic', 'language': 'No language found.'}, page_content='with hostility; and if I should remain alive till the day when you will be turned out then I would support you strongly.\" But after a few days Waraqa died and the Divine Inspiration was also paused for a while.'),\n",
       " Document(metadata={'source': 'https://sunnah.com/bukhari/1', 'title': '\\n\\tRevelation - Sunnah.com - Sayings and Teachings of Prophet Muhammad (صلى الله عليه و سلم)\\n  ', 'description': 'Hadith of the Prophet Muhammad (saws) in English and Arabic', 'language': 'No language found.'}, page_content='حَدَّثَنَا يَحْيَى بْنُ بُكَيْرٍ، قَالَ حَدَّثَنَا اللَّيْثُ، عَنْ عُقَيْلٍ، عَنِ ابْنِ شِهَابٍ، عَنْ عُرْوَةَ بْنِ الزُّبَيْرِ، عَنْ عَائِشَةَ أُمِّ الْمُؤْمِنِينَ، أَنَّهَا قَالَتْ أَوَّلُ مَا بُدِئَ بِهِ رَسُولُ اللَّهِ صلى الله عليه وسلم مِنَ الْوَحْىِ الرُّؤْيَا الصَّالِحَةُ فِي النَّوْمِ، فَكَانَ لاَ يَرَى رُؤْيَا إِلاَّ جَاءَتْ مِثْلَ فَلَقِ الصُّبْحِ، ثُمَّ حُبِّبَ إِلَيْهِ الْخَلاَءُ، وَكَانَ يَخْلُو بِغَارِ حِرَاءٍ فَيَتَحَنَّثُ فِيهِ ـ وَهُوَ التَّعَبُّدُ ـ اللَّيَالِيَ ذَوَاتِ'),\n",
       " Document(metadata={'source': 'https://sunnah.com/bukhari/1', 'title': '\\n\\tRevelation - Sunnah.com - Sayings and Teachings of Prophet Muhammad (صلى الله عليه و سلم)\\n  ', 'description': 'Hadith of the Prophet Muhammad (saws) in English and Arabic', 'language': 'No language found.'}, page_content='وَكَانَ يَخْلُو بِغَارِ حِرَاءٍ فَيَتَحَنَّثُ فِيهِ ـ وَهُوَ التَّعَبُّدُ ـ اللَّيَالِيَ ذَوَاتِ الْعَدَدِ قَبْلَ أَنْ يَنْزِعَ إِلَى أَهْلِهِ، وَيَتَزَوَّدُ لِذَلِكَ، ثُمَّ يَرْجِعُ إِلَى خَدِيجَةَ، فَيَتَزَوَّدُ لِمِثْلِهَا، حَتَّى جَاءَهُ الْحَقُّ وَهُوَ فِي غَارِ حِرَاءٍ، فَجَاءَهُ الْمَلَكُ فَقَالَ اقْرَأْ\\u200f.\\u200f قَالَ \\u200f\"\\u200f مَا أَنَا بِقَارِئٍ \\u200f\"\\u200f\\u200f.\\u200f قَالَ \\u200f\"\\u200f فَأَخَذَنِي فَغَطَّنِي حَتَّى بَلَغَ مِنِّي الْجَهْدَ، ثُمَّ أَرْسَلَنِي فَقَالَ اقْرَأْ\\u200f.\\u200f قُلْتُ مَا أَنَا بِقَارِئٍ\\u200f.\\u200f فَأَخَذَنِي'),\n",
       " Document(metadata={'source': 'https://sunnah.com/bukhari/1', 'title': '\\n\\tRevelation - Sunnah.com - Sayings and Teachings of Prophet Muhammad (صلى الله عليه و سلم)\\n  ', 'description': 'Hadith of the Prophet Muhammad (saws) in English and Arabic', 'language': 'No language found.'}, page_content='مِنِّي الْجَهْدَ، ثُمَّ أَرْسَلَنِي فَقَالَ اقْرَأْ\\u200f.\\u200f قُلْتُ مَا أَنَا بِقَارِئٍ\\u200f.\\u200f فَأَخَذَنِي فَغَطَّنِي الثَّانِيَةَ حَتَّى بَلَغَ مِنِّي الْجَهْدَ، ثُمَّ أَرْسَلَنِي فَقَالَ اقْرَأْ\\u200f.\\u200f فَقُلْتُ مَا أَنَا بِقَارِئٍ\\u200f.\\u200f فَأَخَذَنِي فَغَطَّنِي الثَّالِثَةَ، ثُمَّ أَرْسَلَنِي فَقَالَ \\u200f{\\u200fاقْرَأْ بِاسْمِ رَبِّكَ الَّذِي خَلَقَ * خَلَقَ الإِنْسَانَ مِنْ عَلَقٍ * اقْرَأْ وَرَبُّكَ الأَكْرَمُ\\u200f}\\u200f \\u200f\"\\u200f\\u200f.\\u200f فَرَجَعَ بِهَا رَسُولُ اللَّهِ صلى الله عليه وسلم يَرْجُفُ فُؤَادُهُ، فَدَخَلَ عَلَى خَدِيجَةَ'),\n",
       " Document(metadata={'source': 'https://sunnah.com/bukhari/1', 'title': '\\n\\tRevelation - Sunnah.com - Sayings and Teachings of Prophet Muhammad (صلى الله عليه و سلم)\\n  ', 'description': 'Hadith of the Prophet Muhammad (saws) in English and Arabic', 'language': 'No language found.'}, page_content='فَرَجَعَ بِهَا رَسُولُ اللَّهِ صلى الله عليه وسلم يَرْجُفُ فُؤَادُهُ، فَدَخَلَ عَلَى خَدِيجَةَ بِنْتِ خُوَيْلِدٍ رضى الله عنها فَقَالَ \\u200f\"\\u200f زَمِّلُونِي زَمِّلُونِي \\u200f\"\\u200f\\u200f.\\u200f فَزَمَّلُوهُ حَتَّى ذَهَبَ عَنْهُ الرَّوْعُ، فَقَالَ لِخَدِيجَةَ وَأَخْبَرَهَا الْخَبَرَ \\u200f\"\\u200f لَقَدْ خَشِيتُ عَلَى نَفْسِي \\u200f\"\\u200f\\u200f.\\u200f فَقَالَتْ خَدِيجَةُ كَلاَّ وَاللَّهِ مَا يُخْزِيكَ اللَّهُ أَبَدًا، إِنَّكَ لَتَصِلُ الرَّحِمَ، وَتَحْمِلُ الْكَلَّ، وَتَكْسِبُ الْمَعْدُومَ، وَتَقْرِي الضَّيْفَ، وَتُعِينُ عَلَى نَوَائِبِ الْحَقِّ\\u200f.\\u200f'),\n",
       " Document(metadata={'source': 'https://sunnah.com/bukhari/1', 'title': '\\n\\tRevelation - Sunnah.com - Sayings and Teachings of Prophet Muhammad (صلى الله عليه و سلم)\\n  ', 'description': 'Hadith of the Prophet Muhammad (saws) in English and Arabic', 'language': 'No language found.'}, page_content='الْكَلَّ، وَتَكْسِبُ الْمَعْدُومَ، وَتَقْرِي الضَّيْفَ، وَتُعِينُ عَلَى نَوَائِبِ الْحَقِّ\\u200f.\\u200f فَانْطَلَقَتْ بِهِ خَدِيجَةُ حَتَّى أَتَتْ بِهِ وَرَقَةَ بْنَ نَوْفَلِ بْنِ أَسَدِ بْنِ عَبْدِ الْعُزَّى ابْنَ عَمِّ خَدِيجَةَ ـ وَكَانَ امْرَأً تَنَصَّرَ فِي الْجَاهِلِيَّةِ، وَكَانَ يَكْتُبُ الْكِتَابَ الْعِبْرَانِيَّ، فَيَكْتُبُ مِنَ الإِنْجِيلِ بِالْعِبْرَانِيَّةِ مَا شَاءَ اللَّهُ أَنْ يَكْتُبَ، وَكَانَ شَيْخًا كَبِيرًا قَدْ عَمِيَ ـ فَقَالَتْ لَهُ خَدِيجَةُ يَا ابْنَ عَمِّ اسْمَعْ مِنَ ابْنِ'),\n",
       " Document(metadata={'source': 'https://sunnah.com/bukhari/1', 'title': '\\n\\tRevelation - Sunnah.com - Sayings and Teachings of Prophet Muhammad (صلى الله عليه و سلم)\\n  ', 'description': 'Hadith of the Prophet Muhammad (saws) in English and Arabic', 'language': 'No language found.'}, page_content='وَكَانَ شَيْخًا كَبِيرًا قَدْ عَمِيَ ـ فَقَالَتْ لَهُ خَدِيجَةُ يَا ابْنَ عَمِّ اسْمَعْ مِنَ ابْنِ أَخِيكَ\\u200f.\\u200f فَقَالَ لَهُ وَرَقَةُ يَا ابْنَ أَخِي مَاذَا تَرَى فَأَخْبَرَهُ رَسُولُ اللَّهِ صلى الله عليه وسلم خَبَرَ مَا رَأَى\\u200f.\\u200f فَقَالَ لَهُ وَرَقَةُ هَذَا النَّامُوسُ الَّذِي نَزَّلَ اللَّهُ عَلَى مُوسَى صلى الله عليه وسلم يَا لَيْتَنِي فِيهَا جَذَعًا، لَيْتَنِي أَكُونُ حَيًّا إِذْ يُخْرِجُكَ قَوْمُكَ\\u200f.\\u200f فَقَالَ رَسُولُ اللَّهِ صلى الله عليه وسلم \\u200f\"\\u200f أَوَمُخْرِجِيَّ هُمْ \\u200f\"\\u200f\\u200f.\\u200f قَالَ نَعَمْ،'),\n",
       " Document(metadata={'source': 'https://sunnah.com/bukhari/1', 'title': '\\n\\tRevelation - Sunnah.com - Sayings and Teachings of Prophet Muhammad (صلى الله عليه و سلم)\\n  ', 'description': 'Hadith of the Prophet Muhammad (saws) in English and Arabic', 'language': 'No language found.'}, page_content='فَقَالَ رَسُولُ اللَّهِ صلى الله عليه وسلم \\u200f\"\\u200f أَوَمُخْرِجِيَّ هُمْ \\u200f\"\\u200f\\u200f.\\u200f قَالَ نَعَمْ، لَمْ يَأْتِ رَجُلٌ قَطُّ بِمِثْلِ مَا جِئْتَ بِهِ إِلاَّ عُودِيَ، وَإِنْ يُدْرِكْنِي يَوْمُكَ أَنْصُرْكَ نَصْرًا مُؤَزَّرًا\\u200f.\\u200f ثُمَّ لَمْ يَنْشَبْ وَرَقَةُ أَنْ تُوُفِّيَ وَفَتَرَ الْوَحْىُ\\u200f.\\u200f'),\n",
       " Document(metadata={'source': 'https://sunnah.com/bukhari/1', 'title': '\\n\\tRevelation - Sunnah.com - Sayings and Teachings of Prophet Muhammad (صلى الله عليه و سلم)\\n  ', 'description': 'Hadith of the Prophet Muhammad (saws) in English and Arabic', 'language': 'No language found.'}, page_content='Reference\\xa0:\\xa0Sahih al-Bukhari 3In-book reference\\xa0:\\xa0Book 1, Hadith 3USC-MSA web (English) reference\\xa0: Vol. 1, Book 1, Hadith 3 \\xa0\\xa0(deprecated numbering scheme)Report Error | Share | Copy ▼'),\n",
       " Document(metadata={'source': 'https://sunnah.com/bukhari/1', 'title': '\\n\\tRevelation - Sunnah.com - Sayings and Teachings of Prophet Muhammad (صلى الله عليه و سلم)\\n  ', 'description': 'Hadith of the Prophet Muhammad (saws) in English and Arabic', 'language': 'No language found.'}, page_content='Sahih al-Bukhari 4Narrated Jabir bin \\'Abdullah Al-Ansari (while talking about the period of pause in revelation) reporting the speech of the Prophet:\"While I was walking, all of a sudden I heard a voice from the sky. I looked up and saw the same angel who had visited me at the cave of Hira\\' sitting on a chair between the sky and the earth. I got afraid of him and came back home and said, \\'Wrap me (in blankets).\\' And then Allah revealed the following Holy Verses (of Quran):  \\'O you (i.e.'),\n",
       " Document(metadata={'source': 'https://sunnah.com/bukhari/1', 'title': '\\n\\tRevelation - Sunnah.com - Sayings and Teachings of Prophet Muhammad (صلى الله عليه و سلم)\\n  ', 'description': 'Hadith of the Prophet Muhammad (saws) in English and Arabic', 'language': 'No language found.'}, page_content='me (in blankets).\\' And then Allah revealed the following Holy Verses (of Quran):  \\'O you (i.e. Muhammad)! wrapped up in garments!\\' Arise and warn (the people against Allah\\'s Punishment),... up to \\'and desert the idols.\\' (74.1-5) After this the revelation started coming strongly, frequently and regularly.\"'),\n",
       " Document(metadata={'source': 'https://sunnah.com/bukhari/1', 'title': '\\n\\tRevelation - Sunnah.com - Sayings and Teachings of Prophet Muhammad (صلى الله عليه و سلم)\\n  ', 'description': 'Hadith of the Prophet Muhammad (saws) in English and Arabic', 'language': 'No language found.'}, page_content='قَالَ ابْنُ شِهَابٍ وَأَخْبَرَنِي أَبُو سَلَمَةَ بْنُ عَبْدِ الرَّحْمَنِ، أَنَّ جَابِرَ بْنَ عَبْدِ اللَّهِ الأَنْصَارِيَّ، قَالَ ـ وَهُوَ يُحَدِّثُ عَنْ فَتْرَةِ الْوَحْىِ، فَقَالَ ـ فِي حَدِيثِهِ \\u200f\"\\u200f بَيْنَا أَنَا أَمْشِي، إِذْ سَمِعْتُ صَوْتًا، مِنَ السَّمَاءِ، فَرَفَعْتُ بَصَرِي فَإِذَا الْمَلَكُ الَّذِي جَاءَنِي بِحِرَاءٍ جَالِسٌ عَلَى كُرْسِيٍّ بَيْنَ السَّمَاءِ وَالأَرْضِ، فَرُعِبْتُ مِنْهُ، فَرَجَعْتُ فَقُلْتُ زَمِّلُونِي\\u200f.\\u200f فَأَنْزَلَ اللَّهُ تَعَالَى \\u200f{\\u200fيَا أَيُّهَا الْمُدَّثِّرُ *'),\n",
       " Document(metadata={'source': 'https://sunnah.com/bukhari/1', 'title': '\\n\\tRevelation - Sunnah.com - Sayings and Teachings of Prophet Muhammad (صلى الله عليه و سلم)\\n  ', 'description': 'Hadith of the Prophet Muhammad (saws) in English and Arabic', 'language': 'No language found.'}, page_content='فَرَجَعْتُ فَقُلْتُ زَمِّلُونِي\\u200f.\\u200f فَأَنْزَلَ اللَّهُ تَعَالَى \\u200f{\\u200fيَا أَيُّهَا الْمُدَّثِّرُ * قُمْ فَأَنْذِرْ\\u200f}\\u200f إِلَى قَوْلِهِ \\u200f{\\u200fوَالرُّجْزَ فَاهْجُرْ\\u200f}\\u200f فَحَمِيَ الْوَحْىُ وَتَتَابَعَ \\u200f\"\\u200f\\u200f.\\u200f تَابَعَهُ عَبْدُ اللَّهِ بْنُ يُوسُفَ وَأَبُو صَالِحٍ\\u200f.\\u200f وَتَابَعَهُ هِلاَلُ بْنُ رَدَّادٍ عَنِ الزُّهْرِيِّ\\u200f.\\u200f وَقَالَ يُونُسُ وَمَعْمَرٌ \\u200f\"\\u200f بَوَادِرُهُ \\u200f\"\\u200f\\u200f.\\u200f'),\n",
       " Document(metadata={'source': 'https://sunnah.com/bukhari/1', 'title': '\\n\\tRevelation - Sunnah.com - Sayings and Teachings of Prophet Muhammad (صلى الله عليه و سلم)\\n  ', 'description': 'Hadith of the Prophet Muhammad (saws) in English and Arabic', 'language': 'No language found.'}, page_content='Reference\\xa0:\\xa0Sahih al-Bukhari 4In-book reference\\xa0:\\xa0Book 1, Hadith 4USC-MSA web (English) reference\\xa0: Vol. 1, Book 1, Hadith 3 \\xa0\\xa0(deprecated numbering scheme)Report Error | Share | Copy ▼\\n\\n(4)Chapter: \\n(4)\\nباب'),\n",
       " Document(metadata={'source': 'https://sunnah.com/bukhari/1', 'title': '\\n\\tRevelation - Sunnah.com - Sayings and Teachings of Prophet Muhammad (صلى الله عليه و سلم)\\n  ', 'description': 'Hadith of the Prophet Muhammad (saws) in English and Arabic', 'language': 'No language found.'}, page_content='Sahih al-Bukhari 5\\r\\n\\r\\n     Narrated Said bin Jubair:'),\n",
       " Document(metadata={'source': 'https://sunnah.com/bukhari/1', 'title': '\\n\\tRevelation - Sunnah.com - Sayings and Teachings of Prophet Muhammad (صلى الله عليه و سلم)\\n  ', 'description': 'Hadith of the Prophet Muhammad (saws) in English and Arabic', 'language': 'No language found.'}, page_content='Ibn \\'Abbas in the explanation of the statement of Allah \"Move not your tongue concerning (the Quran) to make haste therewith.\" (75.16) said \"Allah\\'s Messenger (ﷺ) used to bear the revelation with great trouble and used to move his lips (quickly) with the Inspiration.\" Ibn \\'Abbas moved his lips saying, \"I am moving my lips in front of you as Allah\\'s Messenger (ﷺ) used to move his.\" Said moved his lips saying: \"I am moving my lips, as I saw Ibn \\'Abbas moving his.\" Ibn \\'Abbas added, \"So Allah'),\n",
       " Document(metadata={'source': 'https://sunnah.com/bukhari/1', 'title': '\\n\\tRevelation - Sunnah.com - Sayings and Teachings of Prophet Muhammad (صلى الله عليه و سلم)\\n  ', 'description': 'Hadith of the Prophet Muhammad (saws) in English and Arabic', 'language': 'No language found.'}, page_content='his lips saying: \"I am moving my lips, as I saw Ibn \\'Abbas moving his.\" Ibn \\'Abbas added, \"So Allah revealed \\'Move not your tongue concerning (the Qur\\'an) to make haste therewith. It is for Us to collect it and to give you (O Muhammad) the ability to recite it (the Quran)\\' (75.16-17) which means that Allah will make him (the Prophet) remember the portion of the Qur\\'an which was revealed at that time by heart and recite it. The statement of Allah: \\'And when we have recited it to you (O Muhammad'),\n",
       " Document(metadata={'source': 'https://sunnah.com/bukhari/1', 'title': '\\n\\tRevelation - Sunnah.com - Sayings and Teachings of Prophet Muhammad (صلى الله عليه و سلم)\\n  ', 'description': 'Hadith of the Prophet Muhammad (saws) in English and Arabic', 'language': 'No language found.'}, page_content=\"by heart and recite it. The statement of Allah: 'And when we have recited it to you (O Muhammad through Gabriel) then you follow its (Quran) recital' (75.18) means 'listen to it and be silent.' Then it is for Us (Allah) to make it clear to you' (75.19) means 'Then it is (for Allah) to make you recite it (and its meaning will be clear by itself through your tongue). Afterwards, Allah's Messenger (ﷺ) used to listen to Gabriel whenever he came and after his departure he used to recite it as\"),\n",
       " Document(metadata={'source': 'https://sunnah.com/bukhari/1', 'title': '\\n\\tRevelation - Sunnah.com - Sayings and Teachings of Prophet Muhammad (صلى الله عليه و سلم)\\n  ', 'description': 'Hadith of the Prophet Muhammad (saws) in English and Arabic', 'language': 'No language found.'}, page_content='(ﷺ) used to listen to Gabriel whenever he came and after his departure he used to recite it as Gabriel had recited it.\"'),\n",
       " Document(metadata={'source': 'https://sunnah.com/bukhari/1', 'title': '\\n\\tRevelation - Sunnah.com - Sayings and Teachings of Prophet Muhammad (صلى الله عليه و سلم)\\n  ', 'description': 'Hadith of the Prophet Muhammad (saws) in English and Arabic', 'language': 'No language found.'}, page_content='حَدَّثَنَا مُوسَى بْنُ إِسْمَاعِيلَ، قَالَ حَدَّثَنَا أَبُو عَوَانَةَ، قَالَ حَدَّثَنَا مُوسَى بْنُ أَبِي عَائِشَةَ، قَالَ حَدَّثَنَا سَعِيدُ بْنُ جُبَيْرٍ، عَنِ ابْنِ عَبَّاسٍ، فِي قَوْلِهِ تَعَالَى \\u200f{\\u200fلاَ تُحَرِّكْ بِهِ لِسَانَكَ لِتَعْجَلَ بِهِ\\u200f}\\u200f قَالَ كَانَ رَسُولُ اللَّهِ صلى الله عليه وسلم يُعَالِجُ مِنَ التَّنْزِيلِ شِدَّةً، وَكَانَ مِمَّا يُحَرِّكُ شَفَتَيْهِ ـ فَقَالَ ابْنُ عَبَّاسٍ فَأَنَا أُحَرِّكُهُمَا لَكُمْ كَمَا كَانَ رَسُولُ اللَّهِ صلى الله عليه وسلم يُحَرِّكُهُمَا\\u200f.\\u200f وَقَالَ'),\n",
       " Document(metadata={'source': 'https://sunnah.com/bukhari/1', 'title': '\\n\\tRevelation - Sunnah.com - Sayings and Teachings of Prophet Muhammad (صلى الله عليه و سلم)\\n  ', 'description': 'Hadith of the Prophet Muhammad (saws) in English and Arabic', 'language': 'No language found.'}, page_content='أُحَرِّكُهُمَا لَكُمْ كَمَا كَانَ رَسُولُ اللَّهِ صلى الله عليه وسلم يُحَرِّكُهُمَا\\u200f.\\u200f وَقَالَ سَعِيدٌ أَنَا أُحَرِّكُهُمَا كَمَا رَأَيْتُ ابْنَ عَبَّاسٍ يُحَرِّكُهُمَا\\u200f.\\u200f فَحَرَّكَ شَفَتَيْهِ ـ فَأَنْزَلَ اللَّهُ تَعَالَى \\u200f{\\u200fلاَ تُحَرِّكْ بِهِ لِسَانَكَ لِتَعْجَلَ بِهِ* إِنَّ عَلَيْنَا جَمْعَهُ وَقُرْآنَهُ\\u200f}\\u200f قَالَ جَمْعُهُ لَهُ فِي صَدْرِكَ، وَتَقْرَأَهُ \\u200f{\\u200fفَإِذَا قَرَأْنَاهُ فَاتَّبِعْ قُرْآنَهُ\\u200f}\\u200f قَالَ فَاسْتَمِعْ لَهُ وَأَنْصِتْ \\u200f{\\u200fثُمَّ إِنَّ عَلَيْنَا بَيَانَهُ\\u200f}\\u200f ثُمَّ إِنَّ عَلَيْنَا'),\n",
       " Document(metadata={'source': 'https://sunnah.com/bukhari/1', 'title': '\\n\\tRevelation - Sunnah.com - Sayings and Teachings of Prophet Muhammad (صلى الله عليه و سلم)\\n  ', 'description': 'Hadith of the Prophet Muhammad (saws) in English and Arabic', 'language': 'No language found.'}, page_content='قَالَ فَاسْتَمِعْ لَهُ وَأَنْصِتْ \\u200f{\\u200fثُمَّ إِنَّ عَلَيْنَا بَيَانَهُ\\u200f}\\u200f ثُمَّ إِنَّ عَلَيْنَا أَنْ تَقْرَأَهُ\\u200f.\\u200f فَكَانَ رَسُولُ اللَّهِ صلى الله عليه وسلم بَعْدَ ذَلِكَ إِذَا أَتَاهُ جِبْرِيلُ اسْتَمَعَ، فَإِذَا انْطَلَقَ جِبْرِيلُ قَرَأَهُ النَّبِيُّ صلى الله عليه وسلم كَمَا قَرَأَهُ\\u200f.\\u200f'),\n",
       " Document(metadata={'source': 'https://sunnah.com/bukhari/1', 'title': '\\n\\tRevelation - Sunnah.com - Sayings and Teachings of Prophet Muhammad (صلى الله عليه و سلم)\\n  ', 'description': 'Hadith of the Prophet Muhammad (saws) in English and Arabic', 'language': 'No language found.'}, page_content=\"Reference\\xa0:\\xa0Sahih al-Bukhari 5In-book reference\\xa0:\\xa0Book 1, Hadith 5USC-MSA web (English) reference\\xa0: Vol. 1, Book 1, Hadith 4 \\xa0\\xa0(deprecated numbering scheme)Report Error | Share | Copy ▼\\n\\n(5)Chapter: \\n(5)\\nباب \\n\\n\\n\\n\\n\\nSahih al-Bukhari 6\\n\\n     Narrated Ibn 'Abbas:\"),\n",
       " Document(metadata={'source': 'https://sunnah.com/bukhari/1', 'title': '\\n\\tRevelation - Sunnah.com - Sayings and Teachings of Prophet Muhammad (صلى الله عليه و سلم)\\n  ', 'description': 'Hadith of the Prophet Muhammad (saws) in English and Arabic', 'language': 'No language found.'}, page_content=\"(5)Chapter: \\n(5)\\nباب \\n\\n\\n\\n\\n\\nSahih al-Bukhari 6\\n\\n     Narrated Ibn 'Abbas:\\n\\n     Allah's Messenger (ﷺ) was the most generous of all the people, and he used \\n     to reach the peak in generosity in the month of Ramadan when Gabriel \\n     met him. Gabriel used to meet him every night of Ramadan to teach him \\n     the Qur'an. Allah's Messenger (ﷺ) was the most generous person, even more \\n     generous than the strong uncontrollable wind (in readiness and haste \\n     to do charitable deeds).\"),\n",
       " Document(metadata={'source': 'https://sunnah.com/bukhari/1', 'title': '\\n\\tRevelation - Sunnah.com - Sayings and Teachings of Prophet Muhammad (صلى الله عليه و سلم)\\n  ', 'description': 'Hadith of the Prophet Muhammad (saws) in English and Arabic', 'language': 'No language found.'}, page_content='حَدَّثَنَا عَبْدَانُ، قَالَ أَخْبَرَنَا عَبْدُ اللَّهِ، قَالَ أَخْبَرَنَا يُونُسُ، عَنِ الزُّهْرِيِّ، ح وَحَدَّثَنَا بِشْرُ بْنُ مُحَمَّدٍ، قَالَ أَخْبَرَنَا عَبْدُ اللَّهِ، قَالَ أَخْبَرَنَا يُونُسُ، وَمَعْمَرٌ، عَنِ الزُّهْرِيِّ، نَحْوَهُ قَالَ أَخْبَرَنِي عُبَيْدُ اللَّهِ بْنُ عَبْدِ اللَّهِ، عَنِ ابْنِ عَبَّاسٍ، قَالَ كَانَ رَسُولُ اللَّهِ صلى الله عليه وسلم أَجْوَدَ النَّاسِ، وَكَانَ أَجْوَدُ مَا يَكُونُ فِي رَمَضَانَ حِينَ يَلْقَاهُ جِبْرِيلُ، وَكَانَ يَلْقَاهُ فِي كُلِّ لَيْلَةٍ مِنْ'),\n",
       " Document(metadata={'source': 'https://sunnah.com/bukhari/1', 'title': '\\n\\tRevelation - Sunnah.com - Sayings and Teachings of Prophet Muhammad (صلى الله عليه و سلم)\\n  ', 'description': 'Hadith of the Prophet Muhammad (saws) in English and Arabic', 'language': 'No language found.'}, page_content='مَا يَكُونُ فِي رَمَضَانَ حِينَ يَلْقَاهُ جِبْرِيلُ، وَكَانَ يَلْقَاهُ فِي كُلِّ لَيْلَةٍ مِنْ رَمَضَانَ فَيُدَارِسُهُ الْقُرْآنَ، فَلَرَسُولُ اللَّهِ صلى الله عليه وسلم أَجْوَدُ بِالْخَيْرِ مِنَ الرِّيحِ الْمُرْسَلَةِ\\u200f.\\u200f'),\n",
       " Document(metadata={'source': 'https://sunnah.com/bukhari/1', 'title': '\\n\\tRevelation - Sunnah.com - Sayings and Teachings of Prophet Muhammad (صلى الله عليه و سلم)\\n  ', 'description': 'Hadith of the Prophet Muhammad (saws) in English and Arabic', 'language': 'No language found.'}, page_content=\"Reference\\xa0:\\xa0Sahih al-Bukhari 6In-book reference\\xa0:\\xa0Book 1, Hadith 6USC-MSA web (English) reference\\xa0: Vol. 1, Book 1, Hadith 5 \\xa0\\xa0(deprecated numbering scheme)Report Error | Share | Copy ▼\\n\\n(6)Chapter: \\n(6)\\nباب \\n\\n\\n\\n\\n\\nSahih al-Bukhari 7\\n\\n     Narrated 'Abdullah bin 'Abbas:\"),\n",
       " Document(metadata={'source': 'https://sunnah.com/bukhari/1', 'title': '\\n\\tRevelation - Sunnah.com - Sayings and Teachings of Prophet Muhammad (صلى الله عليه و سلم)\\n  ', 'description': 'Hadith of the Prophet Muhammad (saws) in English and Arabic', 'language': 'No language found.'}, page_content=\"Abu Sufyan bin Harb informed me that Heraclius had sent a messenger to\\n     him while he had been accompanying a caravan from Quraish. They were \\n     merchants doing business in Sham (Syria, Palestine, Lebanon and \\n     Jordan), at the time when Allah's Messenger (ﷺ) had truce with Abu Sufyan \\n     and Quraish infidels. So Abu Sufyan and his companions went to \\n     Heraclius at Ilya (Jerusalem). Heraclius called them in the court and\"),\n",
       " Document(metadata={'source': 'https://sunnah.com/bukhari/1', 'title': '\\n\\tRevelation - Sunnah.com - Sayings and Teachings of Prophet Muhammad (صلى الله عليه و سلم)\\n  ', 'description': 'Hadith of the Prophet Muhammad (saws) in English and Arabic', 'language': 'No language found.'}, page_content='Heraclius at Ilya (Jerusalem). Heraclius called them in the court and \\n     he had all the senior Roman dignitaries around him. He called for his \\n     translator who, translating Heraclius\\'s question said to them, \"Who \\n     amongst you is closely related to that man who claims to be a \\n     Prophet?\" Abu Sufyan replied, \"I am the nearest relative to him \\n     (amongst the group).\"'),\n",
       " Document(metadata={'source': 'https://sunnah.com/bukhari/1', 'title': '\\n\\tRevelation - Sunnah.com - Sayings and Teachings of Prophet Muhammad (صلى الله عليه و سلم)\\n  ', 'description': 'Hadith of the Prophet Muhammad (saws) in English and Arabic', 'language': 'No language found.'}, page_content='Heraclius said, \"Bring him (Abu Sufyan) close to me and make his \\n     companions stand behind him.\" Abu Sufyan added, Heraclius told his \\n     translator to tell my companions that he wanted to put some questions \\n     to me regarding that man (The Prophet) and that if I told a lie they \\n     (my companions) should contradict me.\" Abu Sufyan added, \"By Allah! \\n     Had I not been afraid of my companions labeling me a liar, I would not'),\n",
       " Document(metadata={'source': 'https://sunnah.com/bukhari/1', 'title': '\\n\\tRevelation - Sunnah.com - Sayings and Teachings of Prophet Muhammad (صلى الله عليه و سلم)\\n  ', 'description': 'Hadith of the Prophet Muhammad (saws) in English and Arabic', 'language': 'No language found.'}, page_content='Had I not been afraid of my companions labeling me a liar, I would not\\n     have spoken the truth about the Prophet. The first question he asked \\n     me about him was:'),\n",
       " Document(metadata={'source': 'https://sunnah.com/bukhari/1', 'title': '\\n\\tRevelation - Sunnah.com - Sayings and Teachings of Prophet Muhammad (صلى الله عليه و سلم)\\n  ', 'description': 'Hadith of the Prophet Muhammad (saws) in English and Arabic', 'language': 'No language found.'}, page_content=\"'What is his family status amongst you?' \\n\\n\\n     I replied, 'He belongs to a good (noble) family amongst us.' \\n\\n\\n     Heraclius further asked, 'Has anybody amongst you ever claimed the \\n     same (i.e. to be a Prophet) before him?'\\n\\n\\n     I replied, 'No.'\\n\\n\\n     He said, 'Was anybody amongst his ancestors a king?'\\n\\n\\n     I replied, 'No.'\\n\\n\\n     Heraclius asked, 'Do the nobles or the poor follow him?'\\n\\n\\n     I replied, 'It is the poor who follow him.'\"),\n",
       " Document(metadata={'source': 'https://sunnah.com/bukhari/1', 'title': '\\n\\tRevelation - Sunnah.com - Sayings and Teachings of Prophet Muhammad (صلى الله عليه و سلم)\\n  ', 'description': 'Hadith of the Prophet Muhammad (saws) in English and Arabic', 'language': 'No language found.'}, page_content=\"I replied, 'It is the poor who follow him.'\\n\\n\\n     He said, 'Are his followers increasing decreasing (day by day)?'\\n\\n\\n     I replied, 'They are increasing.'\\n\\n\\n     He then asked, 'Does anybody amongst those who embrace his religion \\n     become displeased and renounce the religion afterwards?'\\n\\n\\n     I replied, 'No.'\\n\\n\\n     Heraclius said, 'Have you ever accused him of telling lies before his \\n     claim (to be a Prophet)?'\\n\\n\\n     I replied, 'No. '\"),\n",
       " Document(metadata={'source': 'https://sunnah.com/bukhari/1', 'title': '\\n\\tRevelation - Sunnah.com - Sayings and Teachings of Prophet Muhammad (صلى الله عليه و سلم)\\n  ', 'description': 'Hadith of the Prophet Muhammad (saws) in English and Arabic', 'language': 'No language found.'}, page_content=\"I replied, 'No. '\\n\\n\\n     Heraclius said, 'Does he break his promises?'\\n\\n\\n     I replied, 'No. We are at truce with him but we do not know what he \\n     will do in it.' I could not find opportunity to say anything against \\n     him except that.\\n\\n\\n     Heraclius asked, 'Have you ever had a war with him?'\\n\\n\\n     I replied, 'Yes.'\\n\\n\\n     Then he said, 'What was the outcome of the battles?'\\n\\n\\n     I replied, 'Sometimes he was victorious and sometimes we.'\"),\n",
       " Document(metadata={'source': 'https://sunnah.com/bukhari/1', 'title': '\\n\\tRevelation - Sunnah.com - Sayings and Teachings of Prophet Muhammad (صلى الله عليه و سلم)\\n  ', 'description': 'Hadith of the Prophet Muhammad (saws) in English and Arabic', 'language': 'No language found.'}, page_content=\"I replied, 'Sometimes he was victorious and sometimes we.'\\n\\n\\n     Heraclius said, 'What does he order you to do?'\\n\\n\\n     I said, 'He tells us to worship Allah and Allah alone and not to \\n     worship anything along with Him, and to renounce all that our \\n     ancestors had said. He orders us to pray, to speak the truth, to be \\n     chaste and to keep good relations with our Kith and kin.'\"),\n",
       " Document(metadata={'source': 'https://sunnah.com/bukhari/1', 'title': '\\n\\tRevelation - Sunnah.com - Sayings and Teachings of Prophet Muhammad (صلى الله عليه و سلم)\\n  ', 'description': 'Hadith of the Prophet Muhammad (saws) in English and Arabic', 'language': 'No language found.'}, page_content='Heraclius asked the translator to convey to me the following, I asked \\n     you about his family and your reply was that he belonged to a very \\n     noble family. In fact all the Apostles come from noble families \\n     amongst their respective peoples. I questioned you whether anybody \\n     else amongst you claimed such a thing, your reply was in the negative.\\n     If the answer had been in the affirmative, I would have thought that'),\n",
       " Document(metadata={'source': 'https://sunnah.com/bukhari/1', 'title': '\\n\\tRevelation - Sunnah.com - Sayings and Teachings of Prophet Muhammad (صلى الله عليه و سلم)\\n  ', 'description': 'Hadith of the Prophet Muhammad (saws) in English and Arabic', 'language': 'No language found.'}, page_content=\"If the answer had been in the affirmative, I would have thought that \\n     this man was following the previous man's statement. Then I asked you \\n     whether anyone of his ancestors was a king. Your reply was in the \\n     negative, and if it had been in the affirmative, I would have thought \\n     that this man wanted to take back his ancestral kingdom.\"),\n",
       " Document(metadata={'source': 'https://sunnah.com/bukhari/1', 'title': '\\n\\tRevelation - Sunnah.com - Sayings and Teachings of Prophet Muhammad (صلى الله عليه و سلم)\\n  ', 'description': 'Hadith of the Prophet Muhammad (saws) in English and Arabic', 'language': 'No language found.'}, page_content='I further asked whether he was ever accused of telling lies before he \\n     said what he said, and your reply was in the negative. So I wondered \\n     how a person who does not tell a lie about others could ever tell a \\n     lie about Allah. I, then asked you whether the rich people followed \\n     him or the poor. You replied that it was the poor who followed him. \\n     And in fact all the Apostle have been followed by this very class of'),\n",
       " Document(metadata={'source': 'https://sunnah.com/bukhari/1', 'title': '\\n\\tRevelation - Sunnah.com - Sayings and Teachings of Prophet Muhammad (صلى الله عليه و سلم)\\n  ', 'description': 'Hadith of the Prophet Muhammad (saws) in English and Arabic', 'language': 'No language found.'}, page_content='And in fact all the Apostle have been followed by this very class of \\n     people. Then I asked you whether his followers were increasing or \\n     decreasing. You replied that they were increasing, and in fact this is\\n     the way of true faith, till it is complete in all respects. I further \\n     asked you whether there was anybody, who, after embracing his \\n     religion, became displeased and discarded his religion. Your reply was'),\n",
       " Document(metadata={'source': 'https://sunnah.com/bukhari/1', 'title': '\\n\\tRevelation - Sunnah.com - Sayings and Teachings of Prophet Muhammad (صلى الله عليه و سلم)\\n  ', 'description': 'Hadith of the Prophet Muhammad (saws) in English and Arabic', 'language': 'No language found.'}, page_content='religion, became displeased and discarded his religion. Your reply was\\n     in the negative, and in fact this is (the sign of) true faith, when \\n     its delight enters the hearts and mixes with them completely. I asked \\n     you whether he had ever betrayed. You replied in the negative and \\n     likewise the Apostles never betray. Then I asked you what he ordered \\n     you to do. You replied that he ordered you to worship Allah and Allah'),\n",
       " Document(metadata={'source': 'https://sunnah.com/bukhari/1', 'title': '\\n\\tRevelation - Sunnah.com - Sayings and Teachings of Prophet Muhammad (صلى الله عليه و سلم)\\n  ', 'description': 'Hadith of the Prophet Muhammad (saws) in English and Arabic', 'language': 'No language found.'}, page_content='you to do. You replied that he ordered you to worship Allah and Allah \\n     alone and not to worship any thing along with Him and forbade you to \\n     worship idols and ordered you to pray, to speak the truth and to be \\n     chaste. If what you have said is true, he will very soon occupy this \\n     place underneath my feet and I knew it (from the scriptures) that he \\n     was going to appear but I did not know that he would be from you, and'),\n",
       " Document(metadata={'source': 'https://sunnah.com/bukhari/1', 'title': '\\n\\tRevelation - Sunnah.com - Sayings and Teachings of Prophet Muhammad (صلى الله عليه و سلم)\\n  ', 'description': 'Hadith of the Prophet Muhammad (saws) in English and Arabic', 'language': 'No language found.'}, page_content=\"was going to appear but I did not know that he would be from you, and \\n     if I could reach him definitely, I would go immediately to meet him \\n     and if I were with him, I would certainly wash his feet.' Heraclius \\n     then asked for the letter addressed by Allah's Apostle\"),\n",
       " Document(metadata={'source': 'https://sunnah.com/bukhari/1', 'title': '\\n\\tRevelation - Sunnah.com - Sayings and Teachings of Prophet Muhammad (صلى الله عليه و سلم)\\n  ', 'description': 'Hadith of the Prophet Muhammad (saws) in English and Arabic', 'language': 'No language found.'}, page_content='which was delivered by Dihya to the Governor of Busra, who forwarded \\n     it to Heraclius to read. The contents of the letter were as follows: \\n     \"In the name of Allah the Beneficent, the Merciful (This letter is) \\n     from Muhammad the slave of Allah and His Apostle to Heraclius the \\n     ruler of Byzantine. Peace be upon him, who follows the right path. \\n     Furthermore I invite you to Islam, and if you become a Muslim you will'),\n",
       " Document(metadata={'source': 'https://sunnah.com/bukhari/1', 'title': '\\n\\tRevelation - Sunnah.com - Sayings and Teachings of Prophet Muhammad (صلى الله عليه و سلم)\\n  ', 'description': 'Hadith of the Prophet Muhammad (saws) in English and Arabic', 'language': 'No language found.'}, page_content=\"Furthermore I invite you to Islam, and if you become a Muslim you will\\n     be safe, and Allah will double your reward, and if you reject this \\n     invitation of Islam you will be committing a sin of\\n     Arisiyin (tillers, farmers i.e. your people). And  (Allah's Statement:)\"),\n",
       " Document(metadata={'source': 'https://sunnah.com/bukhari/1', 'title': '\\n\\tRevelation - Sunnah.com - Sayings and Teachings of Prophet Muhammad (صلى الله عليه و سلم)\\n  ', 'description': 'Hadith of the Prophet Muhammad (saws) in English and Arabic', 'language': 'No language found.'}, page_content=\"'O people of the scripture! Come to a word common to you and us that \\n     we worship none but Allah and that we associate nothing in worship \\n     with Him, and that none of us shall take others as Lords beside Allah.\\n     Then, if they turn away, say: Bear witness that we are Muslims (those \\n     who have surrendered to Allah).' (3:64).\"),\n",
       " Document(metadata={'source': 'https://sunnah.com/bukhari/1', 'title': '\\n\\tRevelation - Sunnah.com - Sayings and Teachings of Prophet Muhammad (صلى الله عليه و سلم)\\n  ', 'description': 'Hadith of the Prophet Muhammad (saws) in English and Arabic', 'language': 'No language found.'}, page_content='Abu Sufyan then added, \"When Heraclius had finished his speech and had\\n     read the letter, there was a great hue and cry in the Royal Court. So \\n     we were turned out of the court. I told my companions that the \\n     question of Ibn-Abi-Kabsha) (the Prophet (ﷺ) Muhammad) has become so \\n     prominent that even the King of Bani Al-Asfar (Byzantine) is afraid of\\n     him. Then I started to become sure that he (the Prophet) would be the'),\n",
       " Document(metadata={'source': 'https://sunnah.com/bukhari/1', 'title': '\\n\\tRevelation - Sunnah.com - Sayings and Teachings of Prophet Muhammad (صلى الله عليه و سلم)\\n  ', 'description': 'Hadith of the Prophet Muhammad (saws) in English and Arabic', 'language': 'No language found.'}, page_content='him. Then I started to become sure that he (the Prophet) would be the \\n     conqueror in the near future till I embraced Islam (i.e. Allah guided \\n     me to it).\"'),\n",
       " Document(metadata={'source': 'https://sunnah.com/bukhari/1', 'title': '\\n\\tRevelation - Sunnah.com - Sayings and Teachings of Prophet Muhammad (صلى الله عليه و سلم)\\n  ', 'description': 'Hadith of the Prophet Muhammad (saws) in English and Arabic', 'language': 'No language found.'}, page_content='The sub narrator adds, \"Ibn An-Natur was the Governor of llya\\' \\n     (Jerusalem) and Heraclius was the head of the Christians of Sham. Ibn \\n     An-Natur narrates that once while Heraclius was visiting ilya\\' \\n     (Jerusalem), he got up in the morning with a sad mood. Some of his \\n     priests asked him why he was in that mood? Heraclius was a foreteller \\n     and an astrologer. He replied, \\'At night when I looked at the stars, I'),\n",
       " Document(metadata={'source': 'https://sunnah.com/bukhari/1', 'title': '\\n\\tRevelation - Sunnah.com - Sayings and Teachings of Prophet Muhammad (صلى الله عليه و سلم)\\n  ', 'description': 'Hadith of the Prophet Muhammad (saws) in English and Arabic', 'language': 'No language found.'}, page_content=\"and an astrologer. He replied, 'At night when I looked at the stars, I\\n     saw that the leader of those who practice circumcision had appeared \\n     (become the conqueror). Who are they who practice circumcision?' The \\n     people replied, 'Except the Jews nobody practices circumcision, so you\\n     should not be afraid of them (Jews).\"),\n",
       " Document(metadata={'source': 'https://sunnah.com/bukhari/1', 'title': '\\n\\tRevelation - Sunnah.com - Sayings and Teachings of Prophet Muhammad (صلى الله عليه و سلم)\\n  ', 'description': 'Hadith of the Prophet Muhammad (saws) in English and Arabic', 'language': 'No language found.'}, page_content=\"'Just Issue orders to kill every Jew present in the country.'\"),\n",
       " Document(metadata={'source': 'https://sunnah.com/bukhari/1', 'title': '\\n\\tRevelation - Sunnah.com - Sayings and Teachings of Prophet Muhammad (صلى الله عليه و سلم)\\n  ', 'description': 'Hadith of the Prophet Muhammad (saws) in English and Arabic', 'language': 'No language found.'}, page_content=\"While they were discussing it, a messenger sent by the king of Ghassan\\n     to convey the news of Allah's Messenger (ﷺ) to Heraclius was brought in. \\n     Having heard the news, he (Heraclius) ordered the people to go and see\\n     whether the messenger of Ghassan was circumcised. The people, after \\n     seeing him, told Heraclius that he was circumcised. Heraclius then \\n     asked him about the Arabs. The messenger replied, 'Arabs also practice\\n     circumcision.'\"),\n",
       " Document(metadata={'source': 'https://sunnah.com/bukhari/1', 'title': '\\n\\tRevelation - Sunnah.com - Sayings and Teachings of Prophet Muhammad (صلى الله عليه و سلم)\\n  ', 'description': 'Hadith of the Prophet Muhammad (saws) in English and Arabic', 'language': 'No language found.'}, page_content=\"(After hearing that) Heraclius remarked that sovereignty of the 'Arabs\\n     had appeared. Heraclius then wrote a letter to his friend in Rome who \\n     was as good as Heraclius in knowledge. Heraclius then left for Homs. \\n     (a town in Syrian and stayed there till he received the reply of his \\n     letter from his friend who agreed with him in his opinion about the \\n     emergence of the Prophet (ﷺ) and the fact that he was a Prophet. On that\"),\n",
       " Document(metadata={'source': 'https://sunnah.com/bukhari/1', 'title': '\\n\\tRevelation - Sunnah.com - Sayings and Teachings of Prophet Muhammad (صلى الله عليه و سلم)\\n  ', 'description': 'Hadith of the Prophet Muhammad (saws) in English and Arabic', 'language': 'No language found.'}, page_content=\"emergence of the Prophet (ﷺ) and the fact that he was a Prophet. On that \\n     Heraclius invited all the heads of the Byzantines to assemble in his \\n     palace at Homs. When they assembled, he ordered that all the doors of \\n     his palace be closed. Then he came out and said, 'O Byzantines! If \\n     success is your desire and if you seek right guidance and want your \\n     empire to remain then give a pledge of allegiance to this Prophet \\n     (i.e. embrace Islam).'\"),\n",
       " Document(metadata={'source': 'https://sunnah.com/bukhari/1', 'title': '\\n\\tRevelation - Sunnah.com - Sayings and Teachings of Prophet Muhammad (صلى الله عليه و سلم)\\n  ', 'description': 'Hadith of the Prophet Muhammad (saws) in English and Arabic', 'language': 'No language found.'}, page_content='(On hearing the views of Heraclius) the people ran towards the gates \\n     of the palace like onagers but found the doors closed. Heraclius \\n     realized their hatred towards Islam and when he lost the hope of their\\n     embracing Islam, he ordered that they should be brought back in \\n     audience.'),\n",
       " Document(metadata={'source': 'https://sunnah.com/bukhari/1', 'title': '\\n\\tRevelation - Sunnah.com - Sayings and Teachings of Prophet Muhammad (صلى الله عليه و سلم)\\n  ', 'description': 'Hadith of the Prophet Muhammad (saws) in English and Arabic', 'language': 'No language found.'}, page_content=\"(When they returned) he said, 'What already said was just to test the \\n     strength of your conviction and I have seen it.' The people prostrated\\n     before him and became pleased with him, and this was the end of \\n     Heraclius's story (in connection with his faith).\"),\n",
       " Document(metadata={'source': 'https://sunnah.com/bukhari/1', 'title': '\\n\\tRevelation - Sunnah.com - Sayings and Teachings of Prophet Muhammad (صلى الله عليه و سلم)\\n  ', 'description': 'Hadith of the Prophet Muhammad (saws) in English and Arabic', 'language': 'No language found.'}, page_content='حَدَّثَنَا أَبُو الْيَمَانِ الْحَكَمُ بْنُ نَافِعٍ، قَالَ أَخْبَرَنَا شُعَيْبٌ، عَنِ الزُّهْرِيِّ، قَالَ أَخْبَرَنِي عُبَيْدُ اللَّهِ بْنُ عَبْدِ اللَّهِ بْنِ عُتْبَةَ بْنِ مَسْعُودٍ، أَنَّ عَبْدَ اللَّهِ بْنَ عَبَّاسٍ، أَخْبَرَهُ أَنَّ أَبَا سُفْيَانَ بْنَ حَرْبٍ أَخْبَرَهُ أَنَّ هِرَقْلَ أَرْسَلَ إِلَيْهِ فِي رَكْبٍ مِنْ قُرَيْشٍ ـ وَكَانُوا تُجَّارًا بِالشَّأْمِ ـ فِي الْمُدَّةِ الَّتِي كَانَ رَسُولُ اللَّهِ صلى الله عليه وسلم مَادَّ فِيهَا أَبَا سُفْيَانَ وَكُفَّارَ قُرَيْشٍ، فَأَتَوْهُ'),\n",
       " Document(metadata={'source': 'https://sunnah.com/bukhari/1', 'title': '\\n\\tRevelation - Sunnah.com - Sayings and Teachings of Prophet Muhammad (صلى الله عليه و سلم)\\n  ', 'description': 'Hadith of the Prophet Muhammad (saws) in English and Arabic', 'language': 'No language found.'}, page_content='رَسُولُ اللَّهِ صلى الله عليه وسلم مَادَّ فِيهَا أَبَا سُفْيَانَ وَكُفَّارَ قُرَيْشٍ، فَأَتَوْهُ وَهُمْ بِإِيلِيَاءَ فَدَعَاهُمْ فِي مَجْلِسِهِ، وَحَوْلَهُ عُظَمَاءُ الرُّومِ ثُمَّ دَعَاهُمْ وَدَعَا بِتَرْجُمَانِهِ فَقَالَ أَيُّكُمْ أَقْرَبُ نَسَبًا بِهَذَا الرَّجُلِ الَّذِي يَزْعُمُ أَنَّهُ نَبِيٌّ فَقَالَ أَبُو سُفْيَانَ فَقُلْتُ أَنَا أَقْرَبُهُمْ نَسَبًا\\u200f.\\u200f فَقَالَ أَدْنُوهُ مِنِّي، وَقَرِّبُوا أَصْحَابَهُ، فَاجْعَلُوهُمْ عِنْدَ ظَهْرِهِ\\u200f.\\u200f ثُمَّ قَالَ لِتَرْجُمَانِهِ قُلْ لَهُمْ إِنِّي'),\n",
       " Document(metadata={'source': 'https://sunnah.com/bukhari/1', 'title': '\\n\\tRevelation - Sunnah.com - Sayings and Teachings of Prophet Muhammad (صلى الله عليه و سلم)\\n  ', 'description': 'Hadith of the Prophet Muhammad (saws) in English and Arabic', 'language': 'No language found.'}, page_content='أَصْحَابَهُ، فَاجْعَلُوهُمْ عِنْدَ ظَهْرِهِ\\u200f.\\u200f ثُمَّ قَالَ لِتَرْجُمَانِهِ قُلْ لَهُمْ إِنِّي سَائِلٌ هَذَا عَنْ هَذَا الرَّجُلِ، فَإِنْ كَذَبَنِي فَكَذِّبُوهُ\\u200f.\\u200f فَوَاللَّهِ لَوْلاَ الْحَيَاءُ مِنْ أَنْ يَأْثِرُوا عَلَىَّ كَذِبًا لَكَذَبْتُ عَنْهُ، ثُمَّ كَانَ أَوَّلَ مَا سَأَلَنِي عَنْهُ أَنْ قَالَ كَيْفَ نَسَبُهُ فِيكُمْ قُلْتُ هُوَ فِينَا ذُو نَسَبٍ\\u200f.\\u200f قَالَ فَهَلْ قَالَ هَذَا الْقَوْلَ مِنْكُمْ أَحَدٌ قَطُّ قَبْلَهُ قُلْتُ لاَ\\u200f.\\u200f قَالَ فَهَلْ كَانَ مِنْ آبَائِهِ مِنْ مَلِكٍ قُلْتُ لاَ\\u200f.\\u200f'),\n",
       " Document(metadata={'source': 'https://sunnah.com/bukhari/1', 'title': '\\n\\tRevelation - Sunnah.com - Sayings and Teachings of Prophet Muhammad (صلى الله عليه و سلم)\\n  ', 'description': 'Hadith of the Prophet Muhammad (saws) in English and Arabic', 'language': 'No language found.'}, page_content='أَحَدٌ قَطُّ قَبْلَهُ قُلْتُ لاَ\\u200f.\\u200f قَالَ فَهَلْ كَانَ مِنْ آبَائِهِ مِنْ مَلِكٍ قُلْتُ لاَ\\u200f.\\u200f قَالَ فَأَشْرَافُ النَّاسِ يَتَّبِعُونَهُ أَمْ ضُعَفَاؤُهُمْ فَقُلْتُ بَلْ ضُعَفَاؤُهُمْ\\u200f.\\u200f قَالَ أَيَزِيدُونَ أَمْ يَنْقُصُونَ قُلْتُ بَلْ يَزِيدُونَ\\u200f.\\u200f قَالَ فَهَلْ يَرْتَدُّ أَحَدٌ مِنْهُمْ سَخْطَةً لِدِينِهِ بَعْدَ أَنْ يَدْخُلَ فِيهِ قُلْتُ لاَ\\u200f.\\u200f قَالَ فَهَلْ كُنْتُمْ تَتَّهِمُونَهُ بِالْكَذِبِ قَبْلَ أَنْ يَقُولَ مَا قَالَ قُلْتُ لاَ\\u200f.\\u200f قَالَ فَهَلْ يَغْدِرُ قُلْتُ لاَ، وَنَحْنُ مِنْهُ فِي'),\n",
       " Document(metadata={'source': 'https://sunnah.com/bukhari/1', 'title': '\\n\\tRevelation - Sunnah.com - Sayings and Teachings of Prophet Muhammad (صلى الله عليه و سلم)\\n  ', 'description': 'Hadith of the Prophet Muhammad (saws) in English and Arabic', 'language': 'No language found.'}, page_content='قَبْلَ أَنْ يَقُولَ مَا قَالَ قُلْتُ لاَ\\u200f.\\u200f قَالَ فَهَلْ يَغْدِرُ قُلْتُ لاَ، وَنَحْنُ مِنْهُ فِي مُدَّةٍ لاَ نَدْرِي مَا هُوَ فَاعِلٌ فِيهَا\\u200f.\\u200f قَالَ وَلَمْ تُمْكِنِّي كَلِمَةٌ أُدْخِلُ فِيهَا شَيْئًا غَيْرُ هَذِهِ الْكَلِمَةِ\\u200f.\\u200f قَالَ فَهَلْ قَاتَلْتُمُوهُ قُلْتُ نَعَمْ\\u200f.\\u200f قَالَ فَكَيْفَ كَانَ قِتَالُكُمْ إِيَّاهُ قُلْتُ الْحَرْبُ بَيْنَنَا وَبَيْنَهُ سِجَالٌ، يَنَالُ مِنَّا وَنَنَالُ مِنْهُ\\u200f.\\u200f قَالَ مَاذَا يَأْمُرُكُمْ قُلْتُ يَقُولُ اعْبُدُوا اللَّهَ وَحْدَهُ، وَلاَ تُشْرِكُوا بِهِ شَيْئًا،'),\n",
       " Document(metadata={'source': 'https://sunnah.com/bukhari/1', 'title': '\\n\\tRevelation - Sunnah.com - Sayings and Teachings of Prophet Muhammad (صلى الله عليه و سلم)\\n  ', 'description': 'Hadith of the Prophet Muhammad (saws) in English and Arabic', 'language': 'No language found.'}, page_content='قَالَ مَاذَا يَأْمُرُكُمْ قُلْتُ يَقُولُ اعْبُدُوا اللَّهَ وَحْدَهُ، وَلاَ تُشْرِكُوا بِهِ شَيْئًا، وَاتْرُكُوا مَا يَقُولُ آبَاؤُكُمْ، وَيَأْمُرُنَا بِالصَّلاَةِ وَالصِّدْقِ وَالْعَفَافِ وَالصِّلَةِ\\u200f.\\u200f فَقَالَ لِلتَّرْجُمَانِ قُلْ لَهُ سَأَلْتُكَ عَنْ نَسَبِهِ، فَذَكَرْتَ أَنَّهُ فِيكُمْ ذُو نَسَبٍ، فَكَذَلِكَ الرُّسُلُ تُبْعَثُ فِي نَسَبِ قَوْمِهَا، وَسَأَلْتُكَ هَلْ قَالَ أَحَدٌ مِنْكُمْ هَذَا الْقَوْلَ فَذَكَرْتَ أَنْ لاَ، فَقُلْتُ لَوْ كَانَ أَحَدٌ قَالَ هَذَا الْقَوْلَ قَبْلَهُ لَقُلْتُ'),\n",
       " Document(metadata={'source': 'https://sunnah.com/bukhari/1', 'title': '\\n\\tRevelation - Sunnah.com - Sayings and Teachings of Prophet Muhammad (صلى الله عليه و سلم)\\n  ', 'description': 'Hadith of the Prophet Muhammad (saws) in English and Arabic', 'language': 'No language found.'}, page_content='الْقَوْلَ فَذَكَرْتَ أَنْ لاَ، فَقُلْتُ لَوْ كَانَ أَحَدٌ قَالَ هَذَا الْقَوْلَ قَبْلَهُ لَقُلْتُ رَجُلٌ يَأْتَسِي بِقَوْلٍ قِيلَ قَبْلَهُ، وَسَأَلْتُكَ هَلْ كَانَ مِنْ آبَائِهِ مِنْ مَلِكٍ فَذَكَرْتَ أَنْ لاَ، قُلْتُ فَلَوْ كَانَ مِنْ آبَائِهِ مِنْ مَلِكٍ قُلْتُ رَجُلٌ يَطْلُبُ مُلْكَ أَبِيهِ، وَسَأَلْتُكَ هَلْ كُنْتُمْ تَتَّهِمُونَهُ بِالْكَذِبِ قَبْلَ أَنْ يَقُولَ مَا قَالَ فَذَكَرْتَ أَنْ لاَ، فَقَدْ أَعْرِفُ أَنَّهُ لَمْ يَكُنْ لِيَذَرَ الْكَذِبَ عَلَى النَّاسِ وَيَكْذِبَ عَلَى اللَّهِ،'),\n",
       " Document(metadata={'source': 'https://sunnah.com/bukhari/1', 'title': '\\n\\tRevelation - Sunnah.com - Sayings and Teachings of Prophet Muhammad (صلى الله عليه و سلم)\\n  ', 'description': 'Hadith of the Prophet Muhammad (saws) in English and Arabic', 'language': 'No language found.'}, page_content='فَقَدْ أَعْرِفُ أَنَّهُ لَمْ يَكُنْ لِيَذَرَ الْكَذِبَ عَلَى النَّاسِ وَيَكْذِبَ عَلَى اللَّهِ، وَسَأَلْتُكَ أَشْرَافُ النَّاسِ اتَّبَعُوهُ أَمْ ضُعَفَاؤُهُمْ فَذَكَرْتَ أَنَّ ضُعَفَاءَهُمُ اتَّبَعُوهُ، وَهُمْ أَتْبَاعُ الرُّسُلِ، وَسَأَلْتُكَ أَيَزِيدُونَ أَمْ يَنْقُصُونَ فَذَكَرْتَ أَنَّهُمْ يَزِيدُونَ، وَكَذَلِكَ أَمْرُ الإِيمَانِ حَتَّى يَتِمَّ، وَسَأَلْتُكَ أَيَرْتَدُّ أَحَدٌ سَخْطَةً لِدِينِهِ بَعْدَ أَنْ يَدْخُلَ فِيهِ فَذَكَرْتَ أَنْ لاَ، وَكَذَلِكَ الإِيمَانُ حِينَ تُخَالِطُ'),\n",
       " Document(metadata={'source': 'https://sunnah.com/bukhari/1', 'title': '\\n\\tRevelation - Sunnah.com - Sayings and Teachings of Prophet Muhammad (صلى الله عليه و سلم)\\n  ', 'description': 'Hadith of the Prophet Muhammad (saws) in English and Arabic', 'language': 'No language found.'}, page_content='لِدِينِهِ بَعْدَ أَنْ يَدْخُلَ فِيهِ فَذَكَرْتَ أَنْ لاَ، وَكَذَلِكَ الإِيمَانُ حِينَ تُخَالِطُ بَشَاشَتُهُ الْقُلُوبَ، وَسَأَلْتُكَ هَلْ يَغْدِرُ فَذَكَرْتَ أَنْ لاَ، وَكَذَلِكَ الرُّسُلُ لاَ تَغْدِرُ، وَسَأَلْتُكَ بِمَا يَأْمُرُكُمْ، فَذَكَرْتَ أَنَّهُ يَأْمُرُكُمْ أَنْ تَعْبُدُوا اللَّهَ، وَلاَ تُشْرِكُوا بِهِ شَيْئًا، وَيَنْهَاكُمْ عَنْ عِبَادَةِ الأَوْثَانِ، وَيَأْمُرُكُمْ بِالصَّلاَةِ وَالصِّدْقِ وَالْعَفَافِ\\u200f.\\u200f فَإِنْ كَانَ مَا تَقُولُ حَقًّا فَسَيَمْلِكُ مَوْضِعَ قَدَمَىَّ هَاتَيْنِ،'),\n",
       " Document(metadata={'source': 'https://sunnah.com/bukhari/1', 'title': '\\n\\tRevelation - Sunnah.com - Sayings and Teachings of Prophet Muhammad (صلى الله عليه و سلم)\\n  ', 'description': 'Hadith of the Prophet Muhammad (saws) in English and Arabic', 'language': 'No language found.'}, page_content='وَالْعَفَافِ\\u200f.\\u200f فَإِنْ كَانَ مَا تَقُولُ حَقًّا فَسَيَمْلِكُ مَوْضِعَ قَدَمَىَّ هَاتَيْنِ، وَقَدْ كُنْتُ أَعْلَمُ أَنَّهُ خَارِجٌ، لَمْ أَكُنْ أَظُنُّ أَنَّهُ مِنْكُمْ، فَلَوْ أَنِّي أَعْلَمُ أَنِّي أَخْلُصُ إِلَيْهِ لَتَجَشَّمْتُ لِقَاءَهُ، وَلَوْ كُنْتُ عِنْدَهُ لَغَسَلْتُ عَنْ قَدَمِهِ\\u200f.\\u200f ثُمَّ دَعَا بِكِتَابِ رَسُولِ اللَّهِ صلى الله عليه وسلم الَّذِي بَعَثَ بِهِ دِحْيَةُ إِلَى عَظِيمِ بُصْرَى، فَدَفَعَهُ إِلَى هِرَقْلَ فَقَرَأَهُ فَإِذَا فِيهِ بِسْمِ اللَّهِ الرَّحْمَنِ الرَّحِيمِ\\u200f.\\u200f مِنْ'),\n",
       " Document(metadata={'source': 'https://sunnah.com/bukhari/1', 'title': '\\n\\tRevelation - Sunnah.com - Sayings and Teachings of Prophet Muhammad (صلى الله عليه و سلم)\\n  ', 'description': 'Hadith of the Prophet Muhammad (saws) in English and Arabic', 'language': 'No language found.'}, page_content='فَدَفَعَهُ إِلَى هِرَقْلَ فَقَرَأَهُ فَإِذَا فِيهِ بِسْمِ اللَّهِ الرَّحْمَنِ الرَّحِيمِ\\u200f.\\u200f مِنْ مُحَمَّدٍ عَبْدِ اللَّهِ وَرَسُولِهِ إِلَى هِرَقْلَ عَظِيمِ الرُّومِ\\u200f.\\u200f سَلاَمٌ عَلَى مَنِ اتَّبَعَ الْهُدَى، أَمَّا بَعْدُ فَإِنِّي أَدْعُوكَ بِدِعَايَةِ الإِسْلاَمِ، أَسْلِمْ تَسْلَمْ، يُؤْتِكَ اللَّهُ أَجْرَكَ مَرَّتَيْنِ، فَإِنْ تَوَلَّيْتَ فَإِنَّ عَلَيْكَ إِثْمَ الأَرِيسِيِّينَ وَ\\u200f{\\u200fيَا أَهْلَ الْكِتَابِ تَعَالَوْا إِلَى كَلِمَةٍ سَوَاءٍ بَيْنَنَا وَبَيْنَكُمْ أَنْ لاَ نَعْبُدَ إِلاَّ اللَّهَ'),\n",
       " Document(metadata={'source': 'https://sunnah.com/bukhari/1', 'title': '\\n\\tRevelation - Sunnah.com - Sayings and Teachings of Prophet Muhammad (صلى الله عليه و سلم)\\n  ', 'description': 'Hadith of the Prophet Muhammad (saws) in English and Arabic', 'language': 'No language found.'}, page_content='تَعَالَوْا إِلَى كَلِمَةٍ سَوَاءٍ بَيْنَنَا وَبَيْنَكُمْ أَنْ لاَ نَعْبُدَ إِلاَّ اللَّهَ وَلاَ نُشْرِكَ بِهِ شَيْئًا وَلاَ يَتَّخِذَ بَعْضُنَا بَعْضًا أَرْبَابًا مِنْ دُونِ اللَّهِ فَإِنْ تَوَلَّوْا فَقُولُوا اشْهَدُوا بِأَنَّا مُسْلِمُونَ\\u200f}\\u200f قَالَ أَبُو سُفْيَانَ فَلَمَّا قَالَ مَا قَالَ، وَفَرَغَ مِنْ قِرَاءَةِ الْكِتَابِ كَثُرَ عِنْدَهُ الصَّخَبُ، وَارْتَفَعَتِ الأَصْوَاتُ وَأُخْرِجْنَا، فَقُلْتُ لأَصْحَابِي حِينَ أُخْرِجْنَا لَقَدْ أَمِرَ أَمْرُ ابْنِ أَبِي كَبْشَةَ، إِنَّهُ يَخَافُهُ'),\n",
       " Document(metadata={'source': 'https://sunnah.com/bukhari/1', 'title': '\\n\\tRevelation - Sunnah.com - Sayings and Teachings of Prophet Muhammad (صلى الله عليه و سلم)\\n  ', 'description': 'Hadith of the Prophet Muhammad (saws) in English and Arabic', 'language': 'No language found.'}, page_content='فَقُلْتُ لأَصْحَابِي حِينَ أُخْرِجْنَا لَقَدْ أَمِرَ أَمْرُ ابْنِ أَبِي كَبْشَةَ، إِنَّهُ يَخَافُهُ مَلِكُ بَنِي الأَصْفَرِ\\u200f.\\u200f فَمَا زِلْتُ مُوقِنًا أَنَّهُ سَيَظْهَرُ حَتَّى أَدْخَلَ اللَّهُ عَلَىَّ الإِسْلاَمَ\\u200f.\\u200f وَكَانَ ابْنُ النَّاظُورِ صَاحِبُ إِيلِيَاءَ وَهِرَقْلَ سُقُفًّا عَلَى نَصَارَى الشَّأْمِ، يُحَدِّثُ أَنَّ هِرَقْلَ حِينَ قَدِمَ إِيلِيَاءَ أَصْبَحَ يَوْمًا خَبِيثَ النَّفْسِ، فَقَالَ بَعْضُ بَطَارِقَتِهِ قَدِ اسْتَنْكَرْنَا هَيْئَتَكَ\\u200f.\\u200f قَالَ ابْنُ النَّاظُورِ وَكَانَ هِرَقْلُ'),\n",
       " Document(metadata={'source': 'https://sunnah.com/bukhari/1', 'title': '\\n\\tRevelation - Sunnah.com - Sayings and Teachings of Prophet Muhammad (صلى الله عليه و سلم)\\n  ', 'description': 'Hadith of the Prophet Muhammad (saws) in English and Arabic', 'language': 'No language found.'}, page_content='بَعْضُ بَطَارِقَتِهِ قَدِ اسْتَنْكَرْنَا هَيْئَتَكَ\\u200f.\\u200f قَالَ ابْنُ النَّاظُورِ وَكَانَ هِرَقْلُ حَزَّاءً يَنْظُرُ فِي النُّجُومِ، فَقَالَ لَهُمْ حِينَ سَأَلُوهُ إِنِّي رَأَيْتُ اللَّيْلَةَ حِينَ نَظَرْتُ فِي النُّجُومِ مَلِكَ الْخِتَانِ قَدْ ظَهَرَ، فَمَنْ يَخْتَتِنُ مِنْ هَذِهِ الأُمَّةِ قَالُوا لَيْسَ يَخْتَتِنُ إِلاَّ الْيَهُودُ فَلاَ يُهِمَّنَّكَ شَأْنُهُمْ وَاكْتُبْ إِلَى مَدَايِنِ مُلْكِكَ، فَيَقْتُلُوا مَنْ فِيهِمْ مِنَ الْيَهُودِ\\u200f.\\u200f فَبَيْنَمَا هُمْ عَلَى أَمْرِهِمْ أُتِيَ هِرَقْلُ'),\n",
       " Document(metadata={'source': 'https://sunnah.com/bukhari/1', 'title': '\\n\\tRevelation - Sunnah.com - Sayings and Teachings of Prophet Muhammad (صلى الله عليه و سلم)\\n  ', 'description': 'Hadith of the Prophet Muhammad (saws) in English and Arabic', 'language': 'No language found.'}, page_content='فَيَقْتُلُوا مَنْ فِيهِمْ مِنَ الْيَهُودِ\\u200f.\\u200f فَبَيْنَمَا هُمْ عَلَى أَمْرِهِمْ أُتِيَ هِرَقْلُ بِرَجُلٍ أَرْسَلَ بِهِ مَلِكُ غَسَّانَ، يُخْبِرُ عَنْ خَبَرِ رَسُولِ اللَّهِ صلى الله عليه وسلم فَلَمَّا اسْتَخْبَرَهُ هِرَقْلُ قَالَ اذْهَبُوا فَانْظُرُوا أَمُخْتَتِنٌ هُوَ أَمْ لاَ\\u200f.\\u200f فَنَظَرُوا إِلَيْهِ، فَحَدَّثُوهُ أَنَّهُ مُخْتَتِنٌ، وَسَأَلَهُ عَنِ الْعَرَبِ فَقَالَ هُمْ يَخْتَتِنُونَ\\u200f.\\u200f فَقَالَ هِرَقْلُ هَذَا مَلِكُ هَذِهِ الأُمَّةِ قَدْ ظَهَرَ\\u200f.\\u200f ثُمَّ كَتَبَ هِرَقْلُ إِلَى صَاحِبٍ لَهُ'),\n",
       " Document(metadata={'source': 'https://sunnah.com/bukhari/1', 'title': '\\n\\tRevelation - Sunnah.com - Sayings and Teachings of Prophet Muhammad (صلى الله عليه و سلم)\\n  ', 'description': 'Hadith of the Prophet Muhammad (saws) in English and Arabic', 'language': 'No language found.'}, page_content='هِرَقْلُ هَذَا مَلِكُ هَذِهِ الأُمَّةِ قَدْ ظَهَرَ\\u200f.\\u200f ثُمَّ كَتَبَ هِرَقْلُ إِلَى صَاحِبٍ لَهُ بِرُومِيَةَ، وَكَانَ نَظِيرَهُ فِي الْعِلْمِ، وَسَارَ هِرَقْلُ إِلَى حِمْصَ، فَلَمْ يَرِمْ حِمْصَ حَتَّى أَتَاهُ كِتَابٌ مِنْ صَاحِبِهِ يُوَافِقُ رَأْىَ هِرَقْلَ عَلَى خُرُوجِ النَّبِيِّ صلى الله عليه وسلم وَأَنَّهُ نَبِيٌّ، فَأَذِنَ هِرَقْلُ لِعُظَمَاءِ الرُّومِ فِي دَسْكَرَةٍ لَهُ بِحِمْصَ ثُمَّ أَمَرَ بِأَبْوَابِهَا فَغُلِّقَتْ، ثُمَّ اطَّلَعَ فَقَالَ يَا مَعْشَرَ الرُّومِ، هَلْ لَكُمْ فِي'),\n",
       " Document(metadata={'source': 'https://sunnah.com/bukhari/1', 'title': '\\n\\tRevelation - Sunnah.com - Sayings and Teachings of Prophet Muhammad (صلى الله عليه و سلم)\\n  ', 'description': 'Hadith of the Prophet Muhammad (saws) in English and Arabic', 'language': 'No language found.'}, page_content='أَمَرَ بِأَبْوَابِهَا فَغُلِّقَتْ، ثُمَّ اطَّلَعَ فَقَالَ يَا مَعْشَرَ الرُّومِ، هَلْ لَكُمْ فِي الْفَلاَحِ وَالرُّشْدِ وَأَنْ يَثْبُتَ مُلْكُكُمْ فَتُبَايِعُوا هَذَا النَّبِيَّ، فَحَاصُوا حَيْصَةَ حُمُرِ الْوَحْشِ إِلَى الأَبْوَابِ، فَوَجَدُوهَا قَدْ غُلِّقَتْ، فَلَمَّا رَأَى هِرَقْلُ نَفْرَتَهُمْ، وَأَيِسَ مِنَ الإِيمَانِ قَالَ رُدُّوهُمْ عَلَىَّ\\u200f.\\u200f وَقَالَ إِنِّي قُلْتُ مَقَالَتِي آنِفًا أَخْتَبِرُ بِهَا شِدَّتَكُمْ عَلَى دِينِكُمْ، فَقَدْ رَأَيْتُ\\u200f.\\u200f فَسَجَدُوا لَهُ وَرَضُوا عَنْهُ، فَكَانَ'),\n",
       " Document(metadata={'source': 'https://sunnah.com/bukhari/1', 'title': '\\n\\tRevelation - Sunnah.com - Sayings and Teachings of Prophet Muhammad (صلى الله عليه و سلم)\\n  ', 'description': 'Hadith of the Prophet Muhammad (saws) in English and Arabic', 'language': 'No language found.'}, page_content='بِهَا شِدَّتَكُمْ عَلَى دِينِكُمْ، فَقَدْ رَأَيْتُ\\u200f.\\u200f فَسَجَدُوا لَهُ وَرَضُوا عَنْهُ، فَكَانَ ذَلِكَ آخِرَ شَأْنِ هِرَقْلَ\\u200f.\\u200f رَوَاهُ صَالِحُ بْنُ كَيْسَانَ وَيُونُسُ وَمَعْمَرٌ عَنِ الزُّهْرِيِّ\\u200f.\\u200f'),\n",
       " Document(metadata={'source': 'https://sunnah.com/bukhari/1', 'title': '\\n\\tRevelation - Sunnah.com - Sayings and Teachings of Prophet Muhammad (صلى الله عليه و سلم)\\n  ', 'description': 'Hadith of the Prophet Muhammad (saws) in English and Arabic', 'language': 'No language found.'}, page_content='Reference\\xa0:\\xa0Sahih al-Bukhari 7In-book reference\\xa0:\\xa0Book 1, Hadith 7USC-MSA web (English) reference\\xa0: Vol. 1, Book 1, Hadith 6 \\xa0\\xa0(deprecated numbering scheme)Report Error | Share | Copy ▼\\n\\n\\n\\n \\n\\n\\n \\n\\nAbout |\\n\\tNews |\\n\\tSupport |\\n\\tDevelopers |\\n    Contact |\\n\\tDonate\\n\\n\\n\\n\\n\\n\\n\\n\\n\\n\\n\\n\\n\\n\\n\\n\\n\\nHadith Text\\n\\nArabic\\n\\nTranslation\\n\\nGrade\\n\\n\\nReference\\n\\nConcise\\n\\nDetailed\\n\\nURL')]"
      ]
     },
     "execution_count": 4,
     "metadata": {},
     "output_type": "execute_result"
    }
   ],
   "source": [
    "splits"
   ]
  },
  {
   "cell_type": "markdown",
   "id": "aa833a46",
   "metadata": {},
   "source": [
    "# Create Embeddings and ChromaDB"
   ]
  },
  {
   "cell_type": "code",
   "execution_count": 5,
   "id": "8a36dbb4",
   "metadata": {},
   "outputs": [],
   "source": [
    "embedding_model = OpenAIEmbeddings(model=\"text-embedding-3-small\")  # OpenAI embeddings\n",
    "vectorstore = Chroma.from_documents(splits, embedding_model)\n",
    "retriever = vectorstore.as_retriever()"
   ]
  },
  {
   "cell_type": "code",
   "execution_count": 6,
   "id": "dd04a52c",
   "metadata": {},
   "outputs": [],
   "source": [
    "class AgentState(TypedDict):\n",
    "    messages: List[BaseMessage]"
   ]
  },
  {
   "cell_type": "code",
   "execution_count": null,
   "id": "3925d1a5",
   "metadata": {},
   "outputs": [],
   "source": [
    "# def create_agent(system_prompt: str):\n",
    "#     return ChatOpenAI(model=\"gpt-4-1106-preview\", temperature=0.2).bind(system=system_prompt)\n",
    "\n",
    "# planner = create_agent(\"You are a planner. Break down the user's task into clear development steps.\")\n",
    "# researcher = create_agent(\"You are a researcher. Use context to provide supporting technical info.\")\n",
    "# coder = create_agent(\"You are a coder. Write Python code to solve the task.\")\n",
    "# reviewer = create_agent(\"You are a reviewer. Improve and verify the Python code.\")"
   ]
  },
  {
   "cell_type": "code",
   "execution_count": 16,
   "id": "61a68fe0",
   "metadata": {},
   "outputs": [],
   "source": [
    "from langchain_core.prompts import ChatPromptTemplate\n",
    "from langchain_core.runnables import RunnableLambda\n",
    "from langchain_openai import ChatOpenAI\n",
    "\n",
    "# Define prompt\n",
    "def create_agent(system_prompt: str):\n",
    "    prompt = ChatPromptTemplate.from_messages([\n",
    "        (\"system\", system_prompt),\n",
    "        (\"human\", \"{input}\")\n",
    "    ])\n",
    "    llm = ChatOpenAI(model=\"gpt-4-1106-preview\", temperature=0.3)\n",
    "    chain = prompt | llm\n",
    "    return chain\n"
   ]
  },
  {
   "cell_type": "markdown",
   "id": "60c18d54",
   "metadata": {},
   "source": [
    "# Define Safe Agent Node"
   ]
  },
  {
   "cell_type": "code",
   "execution_count": 17,
   "id": "c106659b",
   "metadata": {},
   "outputs": [],
   "source": [
    "def safe_node(agent, label):\n",
    "    def node(state: AgentState):\n",
    "        try:\n",
    "            input_text = state[\"messages\"][-1].content\n",
    "            response = agent.invoke({\"input\": input_text})  # ✅ this works now\n",
    "            state[\"messages\"].append(HumanMessage(content=response.content))\n",
    "            return {\"messages\": state[\"messages\"]}\n",
    "        except Exception as e:\n",
    "            state[\"messages\"].append(HumanMessage(content=f\"{label} Error: {e}\"))\n",
    "            return {\"messages\": state[\"messages\"]}\n",
    "    return node\n"
   ]
  },
  {
   "cell_type": "markdown",
   "id": "e57de839",
   "metadata": {},
   "source": [
    "# Build LangGraph Workflow"
   ]
  },
  {
   "cell_type": "code",
   "execution_count": 18,
   "id": "646f9567",
   "metadata": {},
   "outputs": [
    {
     "ename": "TypeError",
     "evalue": "safe_node() got an unexpected keyword argument 'use_context'",
     "output_type": "error",
     "traceback": [
      "\u001b[0;31m---------------------------------------------------------------------------\u001b[0m",
      "\u001b[0;31mTypeError\u001b[0m                                 Traceback (most recent call last)",
      "Cell \u001b[0;32mIn[18], line 4\u001b[0m\n\u001b[1;32m      1\u001b[0m builder \u001b[38;5;241m=\u001b[39m StateGraph(AgentState)\n\u001b[1;32m      3\u001b[0m builder\u001b[38;5;241m.\u001b[39madd_node(\u001b[38;5;124m\"\u001b[39m\u001b[38;5;124mplanner\u001b[39m\u001b[38;5;124m\"\u001b[39m, safe_node(planner, \u001b[38;5;124m\"\u001b[39m\u001b[38;5;124mPlanner\u001b[39m\u001b[38;5;124m\"\u001b[39m))\n\u001b[0;32m----> 4\u001b[0m builder\u001b[38;5;241m.\u001b[39madd_node(\u001b[38;5;124m\"\u001b[39m\u001b[38;5;124mresearcher\u001b[39m\u001b[38;5;124m\"\u001b[39m, \u001b[43msafe_node\u001b[49m\u001b[43m(\u001b[49m\u001b[43mresearcher\u001b[49m\u001b[43m,\u001b[49m\u001b[43m \u001b[49m\u001b[38;5;124;43m\"\u001b[39;49m\u001b[38;5;124;43mResearcher\u001b[39;49m\u001b[38;5;124;43m\"\u001b[39;49m\u001b[43m,\u001b[49m\u001b[43m \u001b[49m\u001b[43muse_context\u001b[49m\u001b[38;5;241;43m=\u001b[39;49m\u001b[38;5;28;43;01mTrue\u001b[39;49;00m\u001b[43m)\u001b[49m)\n\u001b[1;32m      5\u001b[0m builder\u001b[38;5;241m.\u001b[39madd_node(\u001b[38;5;124m\"\u001b[39m\u001b[38;5;124mcoder\u001b[39m\u001b[38;5;124m\"\u001b[39m, safe_node(coder, \u001b[38;5;124m\"\u001b[39m\u001b[38;5;124mCoder\u001b[39m\u001b[38;5;124m\"\u001b[39m))\n\u001b[1;32m      6\u001b[0m builder\u001b[38;5;241m.\u001b[39madd_node(\u001b[38;5;124m\"\u001b[39m\u001b[38;5;124mreviewer\u001b[39m\u001b[38;5;124m\"\u001b[39m, safe_node(reviewer, \u001b[38;5;124m\"\u001b[39m\u001b[38;5;124mReviewer\u001b[39m\u001b[38;5;124m\"\u001b[39m))\n",
      "\u001b[0;31mTypeError\u001b[0m: safe_node() got an unexpected keyword argument 'use_context'"
     ]
    }
   ],
   "source": [
    "builder = StateGraph(AgentState)\n",
    "\n",
    "builder.add_node(\"planner\", safe_node(planner, \"Planner\"))\n",
    "builder.add_node(\"researcher\", safe_node(researcher, \"Researcher\", use_context=True))\n",
    "builder.add_node(\"coder\", safe_node(coder, \"Coder\"))\n",
    "builder.add_node(\"reviewer\", safe_node(reviewer, \"Reviewer\"))\n",
    "\n",
    "builder.set_entry_point(\"planner\")\n",
    "builder.add_edge(\"planner\", \"researcher\")\n",
    "builder.add_edge(\"researcher\", \"coder\")\n",
    "builder.add_edge(\"coder\", \"reviewer\")\n",
    "builder.add_edge(\"reviewer\", END)\n",
    "\n",
    "graph = builder.compile()\n"
   ]
  },
  {
   "cell_type": "code",
   "execution_count": 15,
   "id": "a5872af5",
   "metadata": {},
   "outputs": [
    {
     "name": "stdout",
     "output_type": "stream",
     "text": [
      "User:\n",
      "What is sunnah all about?\n",
      "--------------------------------------------------\n",
      "User:\n",
      "Planner Error: Invalid input type <class 'dict'>. Must be a PromptValue, str, or list of BaseMessages.\n",
      "--------------------------------------------------\n",
      "User:\n",
      "Researcher Error: Invalid input type <class 'dict'>. Must be a PromptValue, str, or list of BaseMessages.\n",
      "--------------------------------------------------\n",
      "User:\n",
      "Coder Error: Invalid input type <class 'dict'>. Must be a PromptValue, str, or list of BaseMessages.\n",
      "--------------------------------------------------\n",
      "User:\n",
      "Reviewer Error: Invalid input type <class 'dict'>. Must be a PromptValue, str, or list of BaseMessages.\n",
      "--------------------------------------------------\n"
     ]
    }
   ],
   "source": [
    "user_query = \"What is sunnah all about?\"\n",
    "\n",
    "init_state = {\"messages\": [HumanMessage(content=user_query)]}\n",
    "result = graph.invoke(init_state)\n",
    "\n",
    "for msg in result[\"messages\"]:\n",
    "    sender = \"User\" if isinstance(msg, HumanMessage) else \"AI\"\n",
    "    print(f\"{sender}:\\n{msg.content}\\n{'-'*50}\")\n"
   ]
  },
  {
   "cell_type": "markdown",
   "id": "8898bef3",
   "metadata": {},
   "source": [
    "# **Let's Start Again**"
   ]
  },
  {
   "cell_type": "code",
   "execution_count": 19,
   "id": "fbb58a52",
   "metadata": {},
   "outputs": [
    {
     "name": "stderr",
     "output_type": "stream",
     "text": [
      "/tmp/ipykernel_64264/2552843518.py:19: LangChainDeprecationWarning: The class `OpenAIEmbeddings` was deprecated in LangChain 0.0.9 and will be removed in 1.0. An updated version of the class exists in the :class:`~langchain-openai package and should be used instead. To use it run `pip install -U :class:`~langchain-openai` and import as `from :class:`~langchain_openai import OpenAIEmbeddings``.\n",
      "  embedding = OpenAIEmbeddings()\n"
     ]
    }
   ],
   "source": [
    "# 🧠 Imports\n",
    "from langchain.document_loaders import WebBaseLoader\n",
    "from langchain.embeddings import OpenAIEmbeddings\n",
    "from langchain.vectorstores import Chroma\n",
    "from langchain_core.prompts import ChatPromptTemplate\n",
    "from langchain_openai import ChatOpenAI\n",
    "from langchain.chains import RetrievalQA\n",
    "from langgraph.graph import StateGraph, END\n",
    "from langchain_core.messages import HumanMessage, BaseMessage\n",
    "from typing import TypedDict, List\n",
    "import os\n",
    "\n",
    "# 🌐 Load webpage and extract content\n",
    "url = \"https://sunnah.com/bukhari/1\"\n",
    "loader = WebBaseLoader(url)\n",
    "docs = loader.load()\n",
    "\n",
    "# 🧠 Create vector store with OpenAI Embeddings\n",
    "embedding = OpenAIEmbeddings()\n",
    "vectorstore = Chroma.from_documents(docs, embedding, persist_directory=\"./chromadb_nlp\")\n",
    "retriever = vectorstore.as_retriever()\n",
    "\n",
    "# 🤖 Create a RAG chain (retriever + LLM)\n",
    "llm = ChatOpenAI(model=\"gpt-4.1\", temperature=0.3)\n",
    "rag_chain = RetrievalQA.from_chain_type(llm=llm, retriever=retriever)\n",
    "\n",
    "# 🧬 LangGraph state\n",
    "class AgentState(TypedDict):\n",
    "    messages: List[BaseMessage]\n",
    "\n",
    "# 🧱 Node: RAG LLM agent\n",
    "def rag_node(state: AgentState) -> AgentState:\n",
    "    last_message = state[\"messages\"][-1].content\n",
    "    result = rag_chain.invoke({\"query\": last_message})\n",
    "    state[\"messages\"].append(HumanMessage(content=result[\"result\"]))\n",
    "    return {\"messages\": state[\"messages\"]}\n",
    "\n",
    "# 🔗 Graph: single-node RAG agent\n",
    "builder = StateGraph(AgentState)\n",
    "builder.add_node(\"rag_agent\", rag_node)\n",
    "builder.set_entry_point(\"rag_agent\")\n",
    "builder.add_edge(\"rag_agent\", END)\n",
    "graph = builder.compile()\n"
   ]
  },
  {
   "cell_type": "code",
   "execution_count": 20,
   "id": "9cbe37d2",
   "metadata": {},
   "outputs": [
    {
     "name": "stdout",
     "output_type": "stream",
     "text": [
      "HUMAN: What is sunnah all about?\n",
      "HUMAN: **Sunnah** in Islam refers to the teachings, actions, sayings, and approvals of the Prophet Muhammad (ﷺ). It is the second primary source of Islamic law and guidance after the Qur’an.\n",
      "\n",
      "### What Does Sunnah Include?\n",
      "- **Sayings (Hadith):** What the Prophet said on various matters.\n",
      "- **Actions:** What the Prophet did in his daily life, worship, dealings, etc.\n",
      "- **Approvals:** Things done by others in his presence which he did not object to, indicating his approval.\n",
      "\n",
      "### Why is Sunnah Important?\n",
      "- **Explanation of the Qur’an:** The Sunnah explains, details, and sometimes adds to the general commands in the Qur’an.\n",
      "- **Practical Example:** The Prophet’s life is considered the best example for Muslims to follow in worship, character, and dealings.\n",
      "- **Source of Law:** Alongside the Qur’an, the Sunnah is used to derive Islamic rulings (Shariah).\n",
      "\n",
      "### Examples of Sunnah\n",
      "- **Prayer:** The Qur’an commands prayer, but the Sunnah shows exactly how to perform it.\n",
      "- **Fasting:** The Sunnah explains the details of fasting in Ramadan.\n",
      "- **Character:** The Prophet’s honesty, kindness, and patience are part of the Sunnah.\n",
      "\n",
      "### Types of Sunnah\n",
      "- **Sunnah Qawliyyah:** The Prophet’s sayings.\n",
      "- **Sunnah Filiyyah:** The Prophet’s actions.\n",
      "- **Sunnah Taqririyyah:** The Prophet’s approvals.\n",
      "\n",
      "### Following the Sunnah\n",
      "Muslims are encouraged to follow the Sunnah as a way to draw closer to Allah and to live a life pleasing to Him. The Prophet Muhammad (ﷺ) said:\n",
      "\n",
      "> “Whoever obeys me, obeys Allah.” (Sahih al-Bukhari)\n",
      "\n",
      "### In Summary\n",
      "**Sunnah** is all about following the example set by Prophet Muhammad (ﷺ) in all aspects of life, as a way to understand and practice Islam correctly.\n"
     ]
    }
   ],
   "source": [
    "# 🚀 Run the RAG agent\n",
    "user_query = \"What is sunnah all about?\"\n",
    "init_state = {\"messages\": [HumanMessage(content=user_query)]}\n",
    "result = graph.invoke(init_state)\n",
    "\n",
    "# 📃 Display the conversation\n",
    "for msg in result[\"messages\"]:\n",
    "    print(f\"{msg.type.upper()}: {msg.content}\")\n"
   ]
  },
  {
   "cell_type": "code",
   "execution_count": 21,
   "id": "e9e56f29",
   "metadata": {},
   "outputs": [
    {
     "name": "stdout",
     "output_type": "stream",
     "text": [
      "HUMAN: How the Divine Revelation started being revealed to Allah's Messenger?\n",
      "HUMAN: The beginning of Divine Revelation to Allah’s Messenger Muhammad (ﷺ) is described in detail in Sahih al-Bukhari, Book 1, Hadith 3, narrated by Aisha (may Allah be pleased with her):\n",
      "\n",
      "1. **Good Dreams:**  \n",
      "   The very first form of revelation was that the Prophet (ﷺ) would see good dreams, and whatever he saw in his dreams would come true like the bright daylight.\n",
      "\n",
      "2. **Love of Seclusion:**  \n",
      "   Then, the love of seclusion was placed in his heart. He used to go into seclusion in the Cave of Hira, where he would worship Allah alone for several days at a time.\n",
      "\n",
      "3. **First Revelation in Cave Hira:**  \n",
      "   While he was in the Cave of Hira, the angel Jibril (Gabriel) came to him and said, “Read!” The Prophet (ﷺ) replied, “I do not know how to read.” The angel pressed him tightly three times and each time asked him to read. After the third time, the angel said:\n",
      "\n",
      "   > “Read in the name of your Lord, who has created (all that exists), created man from a clot. Read! And your Lord is the Most Generous.” (Qur’an 96:1-3)\n",
      "\n",
      "4. **After the Revelation:**  \n",
      "   The Prophet (ﷺ) returned home with his heart trembling and asked his wife Khadija (may Allah be pleased with her) to cover him. He told her what had happened and expressed his fear. Khadija comforted him and took him to her cousin Waraqa bin Nawfal, who confirmed that the being who came to him was the same angel who came to Moses and that Muhammad (ﷺ) was indeed a Prophet.\n",
      "\n",
      "5. **Pause in Revelation:**  \n",
      "   After this first encounter, there was a pause in revelation for a while, after which the revelation resumed and continued regularly.\n",
      "\n",
      "**Summary:**  \n",
      "The Divine Revelation began with true dreams, followed by the angel Jibril appearing to the Prophet (ﷺ) in the Cave of Hira and commanding him to “Read.” This marked the commencement of the Prophethood and the revelation of the Qur’an.\n",
      "\n",
      "**References:**  \n",
      "- Sahih al-Bukhari, Book 1, Hadith 3  \n",
      "- Qur’an 96:1-3\n"
     ]
    }
   ],
   "source": [
    "# 🚀 Run the RAG agent\n",
    "user_query = \"How the Divine Revelation started being revealed to Allah's Messenger?\"\n",
    "init_state = {\"messages\": [HumanMessage(content=user_query)]}\n",
    "result = graph.invoke(init_state)\n",
    "\n",
    "# 📃 Display the conversation\n",
    "for msg in result[\"messages\"]:\n",
    "    print(f\"{msg.type.upper()}: {msg.content}\")\n"
   ]
  }
 ],
 "metadata": {
  "kernelspec": {
   "display_name": "Gen_AI",
   "language": "python",
   "name": "python3"
  },
  "language_info": {
   "codemirror_mode": {
    "name": "ipython",
    "version": 3
   },
   "file_extension": ".py",
   "mimetype": "text/x-python",
   "name": "python",
   "nbconvert_exporter": "python",
   "pygments_lexer": "ipython3",
   "version": "3.10.18"
  }
 },
 "nbformat": 4,
 "nbformat_minor": 5
}
